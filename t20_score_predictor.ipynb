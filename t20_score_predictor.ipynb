{
 "cells": [
  {
   "cell_type": "markdown",
   "metadata": {},
   "source": [
    "# libraries"
   ]
  },
  {
   "cell_type": "code",
   "execution_count": 1,
   "metadata": {},
   "outputs": [],
   "source": [
    "# import pyyaml module\n",
    "import yaml\n",
    "from yaml.loader import SafeLoader\n",
    "import os\n",
    "from tqdm import tqdm\n",
    "import pandas as pd\n",
    "from yaml import safe_load\n",
    "import time\n",
    "import pandas_profiling as pp\n",
    "import pickle"
   ]
  },
  {
   "cell_type": "markdown",
   "metadata": {},
   "source": [
    "# # data extarction"
   ]
  },
  {
   "cell_type": "code",
   "execution_count": 273,
   "metadata": {},
   "outputs": [],
   "source": [
    "os.listdir()\n",
    "os.chdir(\"t20s\")"
   ]
  },
  {
   "cell_type": "code",
   "execution_count": 275,
   "metadata": {},
   "outputs": [],
   "source": [
    "file=os.listdir()"
   ]
  },
  {
   "cell_type": "code",
   "execution_count": 276,
   "metadata": {},
   "outputs": [
    {
     "name": "stderr",
     "output_type": "stream",
     "text": [
      "100%|██████████████████████████████████████████████████████████████████████████████| 1431/1431 [15:16<00:00,  1.56it/s]"
     ]
    },
    {
     "name": "stdout",
     "output_type": "stream",
     "text": [
      "916.0087356567383\n"
     ]
    },
    {
     "name": "stderr",
     "output_type": "stream",
     "text": [
      "\n"
     ]
    },
    {
     "data": {
      "text/html": [
       "<div>\n",
       "<style scoped>\n",
       "    .dataframe tbody tr th:only-of-type {\n",
       "        vertical-align: middle;\n",
       "    }\n",
       "\n",
       "    .dataframe tbody tr th {\n",
       "        vertical-align: top;\n",
       "    }\n",
       "\n",
       "    .dataframe thead th {\n",
       "        text-align: right;\n",
       "    }\n",
       "</style>\n",
       "<table border=\"1\" class=\"dataframe\">\n",
       "  <thead>\n",
       "    <tr style=\"text-align: right;\">\n",
       "      <th></th>\n",
       "      <th>match</th>\n",
       "      <th>innings</th>\n",
       "      <th>meta.data_version</th>\n",
       "      <th>meta.created</th>\n",
       "      <th>meta.revision</th>\n",
       "      <th>info.dates</th>\n",
       "      <th>info.gender</th>\n",
       "      <th>info.match_type</th>\n",
       "      <th>info.outcome.by.wickets</th>\n",
       "      <th>info.outcome.winner</th>\n",
       "      <th>...</th>\n",
       "      <th>info.outcome.by.runs</th>\n",
       "      <th>info.match_type_number</th>\n",
       "      <th>info.neutral_venue</th>\n",
       "      <th>info.outcome.method</th>\n",
       "      <th>info.outcome.result</th>\n",
       "      <th>info.outcome.eliminator</th>\n",
       "      <th>info.supersubs.New Zealand</th>\n",
       "      <th>info.supersubs.South Africa</th>\n",
       "      <th>info.bowl_out</th>\n",
       "      <th>info.outcome.bowl_out</th>\n",
       "    </tr>\n",
       "  </thead>\n",
       "  <tbody>\n",
       "    <tr>\n",
       "      <th>0</th>\n",
       "      <td>1</td>\n",
       "      <td>[{'1st innings': {'team': 'Australia', 'delive...</td>\n",
       "      <td>0.9</td>\n",
       "      <td>2017-02-18</td>\n",
       "      <td>2</td>\n",
       "      <td>[2017-02-17]</td>\n",
       "      <td>male</td>\n",
       "      <td>T20</td>\n",
       "      <td>5.0</td>\n",
       "      <td>Sri Lanka</td>\n",
       "      <td>...</td>\n",
       "      <td>NaN</td>\n",
       "      <td>NaN</td>\n",
       "      <td>NaN</td>\n",
       "      <td>NaN</td>\n",
       "      <td>NaN</td>\n",
       "      <td>NaN</td>\n",
       "      <td>NaN</td>\n",
       "      <td>NaN</td>\n",
       "      <td>NaN</td>\n",
       "      <td>NaN</td>\n",
       "    </tr>\n",
       "    <tr>\n",
       "      <th>0</th>\n",
       "      <td>2</td>\n",
       "      <td>[{'1st innings': {'team': 'Australia', 'delive...</td>\n",
       "      <td>0.9</td>\n",
       "      <td>2017-02-19</td>\n",
       "      <td>2</td>\n",
       "      <td>[2017-02-19]</td>\n",
       "      <td>male</td>\n",
       "      <td>T20</td>\n",
       "      <td>2.0</td>\n",
       "      <td>Sri Lanka</td>\n",
       "      <td>...</td>\n",
       "      <td>NaN</td>\n",
       "      <td>NaN</td>\n",
       "      <td>NaN</td>\n",
       "      <td>NaN</td>\n",
       "      <td>NaN</td>\n",
       "      <td>NaN</td>\n",
       "      <td>NaN</td>\n",
       "      <td>NaN</td>\n",
       "      <td>NaN</td>\n",
       "      <td>NaN</td>\n",
       "    </tr>\n",
       "    <tr>\n",
       "      <th>0</th>\n",
       "      <td>3</td>\n",
       "      <td>[{'1st innings': {'team': 'Australia', 'delive...</td>\n",
       "      <td>0.9</td>\n",
       "      <td>2017-02-23</td>\n",
       "      <td>1</td>\n",
       "      <td>[2017-02-22]</td>\n",
       "      <td>male</td>\n",
       "      <td>T20</td>\n",
       "      <td>NaN</td>\n",
       "      <td>Australia</td>\n",
       "      <td>...</td>\n",
       "      <td>41.0</td>\n",
       "      <td>NaN</td>\n",
       "      <td>NaN</td>\n",
       "      <td>NaN</td>\n",
       "      <td>NaN</td>\n",
       "      <td>NaN</td>\n",
       "      <td>NaN</td>\n",
       "      <td>NaN</td>\n",
       "      <td>NaN</td>\n",
       "      <td>NaN</td>\n",
       "    </tr>\n",
       "    <tr>\n",
       "      <th>0</th>\n",
       "      <td>4</td>\n",
       "      <td>[{'1st innings': {'team': 'Hong Kong', 'delive...</td>\n",
       "      <td>0.9</td>\n",
       "      <td>2016-09-12</td>\n",
       "      <td>1</td>\n",
       "      <td>[2016-09-05]</td>\n",
       "      <td>male</td>\n",
       "      <td>T20</td>\n",
       "      <td>NaN</td>\n",
       "      <td>Hong Kong</td>\n",
       "      <td>...</td>\n",
       "      <td>40.0</td>\n",
       "      <td>NaN</td>\n",
       "      <td>NaN</td>\n",
       "      <td>NaN</td>\n",
       "      <td>NaN</td>\n",
       "      <td>NaN</td>\n",
       "      <td>NaN</td>\n",
       "      <td>NaN</td>\n",
       "      <td>NaN</td>\n",
       "      <td>NaN</td>\n",
       "    </tr>\n",
       "    <tr>\n",
       "      <th>0</th>\n",
       "      <td>5</td>\n",
       "      <td>[{'1st innings': {'team': 'Zimbabwe', 'deliver...</td>\n",
       "      <td>0.9</td>\n",
       "      <td>2016-06-19</td>\n",
       "      <td>1</td>\n",
       "      <td>[2016-06-18]</td>\n",
       "      <td>male</td>\n",
       "      <td>T20</td>\n",
       "      <td>NaN</td>\n",
       "      <td>Zimbabwe</td>\n",
       "      <td>...</td>\n",
       "      <td>2.0</td>\n",
       "      <td>NaN</td>\n",
       "      <td>NaN</td>\n",
       "      <td>NaN</td>\n",
       "      <td>NaN</td>\n",
       "      <td>NaN</td>\n",
       "      <td>NaN</td>\n",
       "      <td>NaN</td>\n",
       "      <td>NaN</td>\n",
       "      <td>NaN</td>\n",
       "    </tr>\n",
       "    <tr>\n",
       "      <th>...</th>\n",
       "      <td>...</td>\n",
       "      <td>...</td>\n",
       "      <td>...</td>\n",
       "      <td>...</td>\n",
       "      <td>...</td>\n",
       "      <td>...</td>\n",
       "      <td>...</td>\n",
       "      <td>...</td>\n",
       "      <td>...</td>\n",
       "      <td>...</td>\n",
       "      <td>...</td>\n",
       "      <td>...</td>\n",
       "      <td>...</td>\n",
       "      <td>...</td>\n",
       "      <td>...</td>\n",
       "      <td>...</td>\n",
       "      <td>...</td>\n",
       "      <td>...</td>\n",
       "      <td>...</td>\n",
       "      <td>...</td>\n",
       "      <td>...</td>\n",
       "    </tr>\n",
       "    <tr>\n",
       "      <th>0</th>\n",
       "      <td>1427</td>\n",
       "      <td>[{'1st innings': {'team': 'Sri Lanka', 'delive...</td>\n",
       "      <td>0.9</td>\n",
       "      <td>2016-03-05</td>\n",
       "      <td>2</td>\n",
       "      <td>[2016-03-04]</td>\n",
       "      <td>male</td>\n",
       "      <td>T20</td>\n",
       "      <td>6.0</td>\n",
       "      <td>Pakistan</td>\n",
       "      <td>...</td>\n",
       "      <td>NaN</td>\n",
       "      <td>NaN</td>\n",
       "      <td>1.0</td>\n",
       "      <td>NaN</td>\n",
       "      <td>NaN</td>\n",
       "      <td>NaN</td>\n",
       "      <td>NaN</td>\n",
       "      <td>NaN</td>\n",
       "      <td>NaN</td>\n",
       "      <td>NaN</td>\n",
       "    </tr>\n",
       "    <tr>\n",
       "      <th>0</th>\n",
       "      <td>1428</td>\n",
       "      <td>[{'1st innings': {'team': 'Bangladesh', 'deliv...</td>\n",
       "      <td>0.9</td>\n",
       "      <td>2016-03-08</td>\n",
       "      <td>1</td>\n",
       "      <td>[2016-03-06]</td>\n",
       "      <td>male</td>\n",
       "      <td>T20</td>\n",
       "      <td>8.0</td>\n",
       "      <td>India</td>\n",
       "      <td>...</td>\n",
       "      <td>NaN</td>\n",
       "      <td>NaN</td>\n",
       "      <td>NaN</td>\n",
       "      <td>NaN</td>\n",
       "      <td>NaN</td>\n",
       "      <td>NaN</td>\n",
       "      <td>NaN</td>\n",
       "      <td>NaN</td>\n",
       "      <td>NaN</td>\n",
       "      <td>NaN</td>\n",
       "    </tr>\n",
       "    <tr>\n",
       "      <th>0</th>\n",
       "      <td>1429</td>\n",
       "      <td>[{'1st innings': {'team': 'Netherlands', 'deli...</td>\n",
       "      <td>0.9</td>\n",
       "      <td>2016-02-03</td>\n",
       "      <td>1</td>\n",
       "      <td>[2016-02-03]</td>\n",
       "      <td>male</td>\n",
       "      <td>T20</td>\n",
       "      <td>NaN</td>\n",
       "      <td>Netherlands</td>\n",
       "      <td>...</td>\n",
       "      <td>84.0</td>\n",
       "      <td>NaN</td>\n",
       "      <td>NaN</td>\n",
       "      <td>NaN</td>\n",
       "      <td>NaN</td>\n",
       "      <td>NaN</td>\n",
       "      <td>NaN</td>\n",
       "      <td>NaN</td>\n",
       "      <td>NaN</td>\n",
       "      <td>NaN</td>\n",
       "    </tr>\n",
       "    <tr>\n",
       "      <th>0</th>\n",
       "      <td>1430</td>\n",
       "      <td>[{'1st innings': {'team': 'Australia', 'delive...</td>\n",
       "      <td>0.9</td>\n",
       "      <td>2016-09-12</td>\n",
       "      <td>1</td>\n",
       "      <td>[2016-09-06]</td>\n",
       "      <td>male</td>\n",
       "      <td>T20</td>\n",
       "      <td>NaN</td>\n",
       "      <td>Australia</td>\n",
       "      <td>...</td>\n",
       "      <td>85.0</td>\n",
       "      <td>NaN</td>\n",
       "      <td>NaN</td>\n",
       "      <td>NaN</td>\n",
       "      <td>NaN</td>\n",
       "      <td>NaN</td>\n",
       "      <td>NaN</td>\n",
       "      <td>NaN</td>\n",
       "      <td>NaN</td>\n",
       "      <td>NaN</td>\n",
       "    </tr>\n",
       "    <tr>\n",
       "      <th>0</th>\n",
       "      <td>1431</td>\n",
       "      <td>[{'1st innings': {'team': 'Sri Lanka', 'delive...</td>\n",
       "      <td>0.9</td>\n",
       "      <td>2016-09-12</td>\n",
       "      <td>1</td>\n",
       "      <td>[2016-09-09]</td>\n",
       "      <td>male</td>\n",
       "      <td>T20</td>\n",
       "      <td>4.0</td>\n",
       "      <td>Australia</td>\n",
       "      <td>...</td>\n",
       "      <td>NaN</td>\n",
       "      <td>NaN</td>\n",
       "      <td>NaN</td>\n",
       "      <td>NaN</td>\n",
       "      <td>NaN</td>\n",
       "      <td>NaN</td>\n",
       "      <td>NaN</td>\n",
       "      <td>NaN</td>\n",
       "      <td>NaN</td>\n",
       "      <td>NaN</td>\n",
       "    </tr>\n",
       "  </tbody>\n",
       "</table>\n",
       "<p>1431 rows × 28 columns</p>\n",
       "</div>"
      ],
      "text/plain": [
       "    match                                            innings  \\\n",
       "0       1  [{'1st innings': {'team': 'Australia', 'delive...   \n",
       "0       2  [{'1st innings': {'team': 'Australia', 'delive...   \n",
       "0       3  [{'1st innings': {'team': 'Australia', 'delive...   \n",
       "0       4  [{'1st innings': {'team': 'Hong Kong', 'delive...   \n",
       "0       5  [{'1st innings': {'team': 'Zimbabwe', 'deliver...   \n",
       "..    ...                                                ...   \n",
       "0    1427  [{'1st innings': {'team': 'Sri Lanka', 'delive...   \n",
       "0    1428  [{'1st innings': {'team': 'Bangladesh', 'deliv...   \n",
       "0    1429  [{'1st innings': {'team': 'Netherlands', 'deli...   \n",
       "0    1430  [{'1st innings': {'team': 'Australia', 'delive...   \n",
       "0    1431  [{'1st innings': {'team': 'Sri Lanka', 'delive...   \n",
       "\n",
       "    meta.data_version meta.created  meta.revision    info.dates info.gender  \\\n",
       "0                 0.9   2017-02-18              2  [2017-02-17]        male   \n",
       "0                 0.9   2017-02-19              2  [2017-02-19]        male   \n",
       "0                 0.9   2017-02-23              1  [2017-02-22]        male   \n",
       "0                 0.9   2016-09-12              1  [2016-09-05]        male   \n",
       "0                 0.9   2016-06-19              1  [2016-06-18]        male   \n",
       "..                ...          ...            ...           ...         ...   \n",
       "0                 0.9   2016-03-05              2  [2016-03-04]        male   \n",
       "0                 0.9   2016-03-08              1  [2016-03-06]        male   \n",
       "0                 0.9   2016-02-03              1  [2016-02-03]        male   \n",
       "0                 0.9   2016-09-12              1  [2016-09-06]        male   \n",
       "0                 0.9   2016-09-12              1  [2016-09-09]        male   \n",
       "\n",
       "   info.match_type  info.outcome.by.wickets info.outcome.winner  ...  \\\n",
       "0              T20                      5.0           Sri Lanka  ...   \n",
       "0              T20                      2.0           Sri Lanka  ...   \n",
       "0              T20                      NaN           Australia  ...   \n",
       "0              T20                      NaN           Hong Kong  ...   \n",
       "0              T20                      NaN            Zimbabwe  ...   \n",
       "..             ...                      ...                 ...  ...   \n",
       "0              T20                      6.0            Pakistan  ...   \n",
       "0              T20                      8.0               India  ...   \n",
       "0              T20                      NaN         Netherlands  ...   \n",
       "0              T20                      NaN           Australia  ...   \n",
       "0              T20                      4.0           Australia  ...   \n",
       "\n",
       "    info.outcome.by.runs info.match_type_number info.neutral_venue  \\\n",
       "0                    NaN                    NaN                NaN   \n",
       "0                    NaN                    NaN                NaN   \n",
       "0                   41.0                    NaN                NaN   \n",
       "0                   40.0                    NaN                NaN   \n",
       "0                    2.0                    NaN                NaN   \n",
       "..                   ...                    ...                ...   \n",
       "0                    NaN                    NaN                1.0   \n",
       "0                    NaN                    NaN                NaN   \n",
       "0                   84.0                    NaN                NaN   \n",
       "0                   85.0                    NaN                NaN   \n",
       "0                    NaN                    NaN                NaN   \n",
       "\n",
       "   info.outcome.method info.outcome.result info.outcome.eliminator  \\\n",
       "0                  NaN                 NaN                     NaN   \n",
       "0                  NaN                 NaN                     NaN   \n",
       "0                  NaN                 NaN                     NaN   \n",
       "0                  NaN                 NaN                     NaN   \n",
       "0                  NaN                 NaN                     NaN   \n",
       "..                 ...                 ...                     ...   \n",
       "0                  NaN                 NaN                     NaN   \n",
       "0                  NaN                 NaN                     NaN   \n",
       "0                  NaN                 NaN                     NaN   \n",
       "0                  NaN                 NaN                     NaN   \n",
       "0                  NaN                 NaN                     NaN   \n",
       "\n",
       "   info.supersubs.New Zealand info.supersubs.South Africa  info.bowl_out  \\\n",
       "0                         NaN                         NaN            NaN   \n",
       "0                         NaN                         NaN            NaN   \n",
       "0                         NaN                         NaN            NaN   \n",
       "0                         NaN                         NaN            NaN   \n",
       "0                         NaN                         NaN            NaN   \n",
       "..                        ...                         ...            ...   \n",
       "0                         NaN                         NaN            NaN   \n",
       "0                         NaN                         NaN            NaN   \n",
       "0                         NaN                         NaN            NaN   \n",
       "0                         NaN                         NaN            NaN   \n",
       "0                         NaN                         NaN            NaN   \n",
       "\n",
       "    info.outcome.bowl_out  \n",
       "0                     NaN  \n",
       "0                     NaN  \n",
       "0                     NaN  \n",
       "0                     NaN  \n",
       "0                     NaN  \n",
       "..                    ...  \n",
       "0                     NaN  \n",
       "0                     NaN  \n",
       "0                     NaN  \n",
       "0                     NaN  \n",
       "0                     NaN  \n",
       "\n",
       "[1431 rows x 28 columns]"
      ]
     },
     "execution_count": 276,
     "metadata": {},
     "output_type": "execute_result"
    }
   ],
   "source": [
    "z=time.time()\n",
    "count=1\n",
    "df=pd.DataFrame()\n",
    "for y in tqdm(file):\n",
    "    with open(y,\"r\") as f:\n",
    "        df1 = pd.json_normalize(safe_load(f))\n",
    "        df1.insert(0,\"match\",count)          \n",
    "        df=df.append(df1)\n",
    "        count=count+1\n",
    "\n",
    "y=time.time()\n",
    "print(y-z)\n",
    "df\n",
    "\n",
    "\n"
   ]
  },
  {
   "cell_type": "markdown",
   "metadata": {},
   "source": [
    "# data backup and info"
   ]
  },
  {
   "cell_type": "code",
   "execution_count": 277,
   "metadata": {
    "scrolled": true
   },
   "outputs": [
    {
     "name": "stdout",
     "output_type": "stream",
     "text": [
      "<class 'pandas.core.frame.DataFrame'>\n",
      "Int64Index: 1431 entries, 0 to 0\n",
      "Data columns (total 28 columns):\n",
      " #   Column                       Non-Null Count  Dtype  \n",
      "---  ------                       --------------  -----  \n",
      " 0   match                        1431 non-null   int64  \n",
      " 1   innings                      1431 non-null   object \n",
      " 2   meta.data_version            1431 non-null   float64\n",
      " 3   meta.created                 1431 non-null   object \n",
      " 4   meta.revision                1431 non-null   int64  \n",
      " 5   info.dates                   1431 non-null   object \n",
      " 6   info.gender                  1431 non-null   object \n",
      " 7   info.match_type              1431 non-null   object \n",
      " 8   info.outcome.by.wickets      661 non-null    float64\n",
      " 9   info.outcome.winner          1385 non-null   object \n",
      " 10  info.overs                   1431 non-null   int64  \n",
      " 11  info.player_of_match         1268 non-null   object \n",
      " 12  info.teams                   1431 non-null   object \n",
      " 13  info.toss.decision           1431 non-null   object \n",
      " 14  info.toss.winner             1431 non-null   object \n",
      " 15  info.umpires                 1409 non-null   object \n",
      " 16  info.venue                   1431 non-null   object \n",
      " 17  info.city                    1239 non-null   object \n",
      " 18  info.outcome.by.runs         724 non-null    float64\n",
      " 19  info.match_type_number       698 non-null    float64\n",
      " 20  info.neutral_venue           328 non-null    float64\n",
      " 21  info.outcome.method          51 non-null     object \n",
      " 22  info.outcome.result          46 non-null     object \n",
      " 23  info.outcome.eliminator      16 non-null     object \n",
      " 24  info.supersubs.New Zealand   1 non-null      object \n",
      " 25  info.supersubs.South Africa  1 non-null      object \n",
      " 26  info.bowl_out                2 non-null      object \n",
      " 27  info.outcome.bowl_out        2 non-null      object \n",
      "dtypes: float64(5), int64(3), object(20)\n",
      "memory usage: 324.2+ KB\n"
     ]
    }
   ],
   "source": [
    "copy=df.copy()\n",
    "copy.info()"
   ]
  },
  {
   "cell_type": "markdown",
   "metadata": {},
   "source": [
    "# save data into pickle"
   ]
  },
  {
   "cell_type": "code",
   "execution_count": 278,
   "metadata": {},
   "outputs": [],
   "source": [
    "model_filename = \"data1.pkl\"\n",
    "\n",
    "saved_model = pickle.dump(df, open(model_filename,'wb'))\n"
   ]
  },
  {
   "cell_type": "code",
   "execution_count": 281,
   "metadata": {},
   "outputs": [
    {
     "data": {
      "text/plain": [
       "'C:\\\\Users\\\\devel\\\\Downloads\\\\machine_learning\\\\PROJECT ON GIT\\\\t20matchscoreprector\\\\t20s'"
      ]
     },
     "execution_count": 281,
     "metadata": {},
     "output_type": "execute_result"
    }
   ],
   "source": [
    "os.getcwd()"
   ]
  },
  {
   "cell_type": "markdown",
   "metadata": {},
   "source": [
    "# load data"
   ]
  },
  {
   "cell_type": "code",
   "execution_count": 282,
   "metadata": {},
   "outputs": [],
   "source": [
    "\n",
    "df2 = pd.read_pickle(r'data1.pkl')"
   ]
  },
  {
   "cell_type": "code",
   "execution_count": 283,
   "metadata": {
    "scrolled": true
   },
   "outputs": [
    {
     "name": "stdout",
     "output_type": "stream",
     "text": [
      "<class 'pandas.core.frame.DataFrame'>\n",
      "Int64Index: 1431 entries, 0 to 0\n",
      "Data columns (total 28 columns):\n",
      " #   Column                       Non-Null Count  Dtype  \n",
      "---  ------                       --------------  -----  \n",
      " 0   match                        1431 non-null   int64  \n",
      " 1   innings                      1431 non-null   object \n",
      " 2   meta.data_version            1431 non-null   float64\n",
      " 3   meta.created                 1431 non-null   object \n",
      " 4   meta.revision                1431 non-null   int64  \n",
      " 5   info.dates                   1431 non-null   object \n",
      " 6   info.gender                  1431 non-null   object \n",
      " 7   info.match_type              1431 non-null   object \n",
      " 8   info.outcome.by.wickets      661 non-null    float64\n",
      " 9   info.outcome.winner          1385 non-null   object \n",
      " 10  info.overs                   1431 non-null   int64  \n",
      " 11  info.player_of_match         1268 non-null   object \n",
      " 12  info.teams                   1431 non-null   object \n",
      " 13  info.toss.decision           1431 non-null   object \n",
      " 14  info.toss.winner             1431 non-null   object \n",
      " 15  info.umpires                 1409 non-null   object \n",
      " 16  info.venue                   1431 non-null   object \n",
      " 17  info.city                    1239 non-null   object \n",
      " 18  info.outcome.by.runs         724 non-null    float64\n",
      " 19  info.match_type_number       698 non-null    float64\n",
      " 20  info.neutral_venue           328 non-null    float64\n",
      " 21  info.outcome.method          51 non-null     object \n",
      " 22  info.outcome.result          46 non-null     object \n",
      " 23  info.outcome.eliminator      16 non-null     object \n",
      " 24  info.supersubs.New Zealand   1 non-null      object \n",
      " 25  info.supersubs.South Africa  1 non-null      object \n",
      " 26  info.bowl_out                2 non-null      object \n",
      " 27  info.outcome.bowl_out        2 non-null      object \n",
      "dtypes: float64(5), int64(3), object(20)\n",
      "memory usage: 324.2+ KB\n"
     ]
    }
   ],
   "source": [
    "df2.info()"
   ]
  },
  {
   "cell_type": "markdown",
   "metadata": {},
   "source": [
    "## droping colums"
   ]
  },
  {
   "cell_type": "code",
   "execution_count": 284,
   "metadata": {},
   "outputs": [],
   "source": [
    "dfnew=df2.drop(['meta.data_version', 'meta.created',\n",
    "       'meta.revision', 'info.dates','info.outcome.by.runs', 'info.match_type_number', 'info.neutral_venue',\n",
    "       'info.outcome.method', 'info.outcome.result', 'info.outcome.eliminator',\n",
    "       'info.supersubs.New Zealand', 'info.supersubs.South Africa',\n",
    "       'info.bowl_out', 'info.outcome.bowl_out'\n",
    "       ],axis=1)"
   ]
  },
  {
   "cell_type": "code",
   "execution_count": 285,
   "metadata": {},
   "outputs": [
    {
     "data": {
      "text/html": [
       "<div>\n",
       "<style scoped>\n",
       "    .dataframe tbody tr th:only-of-type {\n",
       "        vertical-align: middle;\n",
       "    }\n",
       "\n",
       "    .dataframe tbody tr th {\n",
       "        vertical-align: top;\n",
       "    }\n",
       "\n",
       "    .dataframe thead th {\n",
       "        text-align: right;\n",
       "    }\n",
       "</style>\n",
       "<table border=\"1\" class=\"dataframe\">\n",
       "  <thead>\n",
       "    <tr style=\"text-align: right;\">\n",
       "      <th></th>\n",
       "      <th>match</th>\n",
       "      <th>innings</th>\n",
       "      <th>info.gender</th>\n",
       "      <th>info.match_type</th>\n",
       "      <th>info.outcome.by.wickets</th>\n",
       "      <th>info.outcome.winner</th>\n",
       "      <th>info.overs</th>\n",
       "      <th>info.player_of_match</th>\n",
       "      <th>info.teams</th>\n",
       "      <th>info.toss.decision</th>\n",
       "      <th>info.toss.winner</th>\n",
       "      <th>info.umpires</th>\n",
       "      <th>info.venue</th>\n",
       "      <th>info.city</th>\n",
       "    </tr>\n",
       "  </thead>\n",
       "  <tbody>\n",
       "    <tr>\n",
       "      <th>0</th>\n",
       "      <td>1</td>\n",
       "      <td>[{'1st innings': {'team': 'Australia', 'delive...</td>\n",
       "      <td>male</td>\n",
       "      <td>T20</td>\n",
       "      <td>5.0</td>\n",
       "      <td>Sri Lanka</td>\n",
       "      <td>20</td>\n",
       "      <td>[DAS Gunaratne]</td>\n",
       "      <td>[Australia, Sri Lanka]</td>\n",
       "      <td>field</td>\n",
       "      <td>Sri Lanka</td>\n",
       "      <td>[MD Martell, P Wilson]</td>\n",
       "      <td>Melbourne Cricket Ground</td>\n",
       "      <td>NaN</td>\n",
       "    </tr>\n",
       "    <tr>\n",
       "      <th>0</th>\n",
       "      <td>2</td>\n",
       "      <td>[{'1st innings': {'team': 'Australia', 'delive...</td>\n",
       "      <td>male</td>\n",
       "      <td>T20</td>\n",
       "      <td>2.0</td>\n",
       "      <td>Sri Lanka</td>\n",
       "      <td>20</td>\n",
       "      <td>[DAS Gunaratne]</td>\n",
       "      <td>[Australia, Sri Lanka]</td>\n",
       "      <td>field</td>\n",
       "      <td>Sri Lanka</td>\n",
       "      <td>[SD Fry, SJ Nogajski]</td>\n",
       "      <td>Simonds Stadium, South Geelong</td>\n",
       "      <td>Victoria</td>\n",
       "    </tr>\n",
       "  </tbody>\n",
       "</table>\n",
       "</div>"
      ],
      "text/plain": [
       "   match                                            innings info.gender  \\\n",
       "0      1  [{'1st innings': {'team': 'Australia', 'delive...        male   \n",
       "0      2  [{'1st innings': {'team': 'Australia', 'delive...        male   \n",
       "\n",
       "  info.match_type  info.outcome.by.wickets info.outcome.winner  info.overs  \\\n",
       "0             T20                      5.0           Sri Lanka          20   \n",
       "0             T20                      2.0           Sri Lanka          20   \n",
       "\n",
       "  info.player_of_match              info.teams info.toss.decision  \\\n",
       "0      [DAS Gunaratne]  [Australia, Sri Lanka]              field   \n",
       "0      [DAS Gunaratne]  [Australia, Sri Lanka]              field   \n",
       "\n",
       "  info.toss.winner            info.umpires                      info.venue  \\\n",
       "0        Sri Lanka  [MD Martell, P Wilson]        Melbourne Cricket Ground   \n",
       "0        Sri Lanka   [SD Fry, SJ Nogajski]  Simonds Stadium, South Geelong   \n",
       "\n",
       "  info.city  \n",
       "0       NaN  \n",
       "0  Victoria  "
      ]
     },
     "execution_count": 285,
     "metadata": {},
     "output_type": "execute_result"
    }
   ],
   "source": [
    "dfnew.head(2)"
   ]
  },
  {
   "cell_type": "markdown",
   "metadata": {},
   "source": [
    "## feature engineerging"
   ]
  },
  {
   "cell_type": "markdown",
   "metadata": {},
   "source": [
    "### gender column"
   ]
  },
  {
   "cell_type": "code",
   "execution_count": 286,
   "metadata": {},
   "outputs": [
    {
     "data": {
      "text/plain": [
       "male      965\n",
       "female    466\n",
       "Name: info.gender, dtype: int64"
      ]
     },
     "execution_count": 286,
     "metadata": {},
     "output_type": "execute_result"
    }
   ],
   "source": [
    "dfnew[\"info.gender\"].value_counts()"
   ]
  },
  {
   "cell_type": "code",
   "execution_count": 287,
   "metadata": {},
   "outputs": [],
   "source": [
    "dfnew=dfnew[dfnew[\"info.gender\"]==\"male\"]\n"
   ]
  },
  {
   "cell_type": "markdown",
   "metadata": {},
   "source": [
    "###  over column"
   ]
  },
  {
   "cell_type": "code",
   "execution_count": 288,
   "metadata": {},
   "outputs": [
    {
     "name": "stdout",
     "output_type": "stream",
     "text": [
      "20    962\n",
      "50      3\n",
      "Name: info.overs, dtype: int64\n"
     ]
    }
   ],
   "source": [
    "print(dfnew[\"info.overs\"].value_counts())\n",
    "dfnew=dfnew[dfnew[\"info.overs\"]==20]\n"
   ]
  },
  {
   "cell_type": "code",
   "execution_count": 289,
   "metadata": {},
   "outputs": [
    {
     "data": {
      "text/plain": [
       "list"
      ]
     },
     "execution_count": 289,
     "metadata": {},
     "output_type": "execute_result"
    }
   ],
   "source": [
    "type(dfnew[dfnew[\"match\"]==1][\"innings\"][0])"
   ]
  },
  {
   "cell_type": "code",
   "execution_count": 290,
   "metadata": {},
   "outputs": [
    {
     "name": "stdout",
     "output_type": "stream",
     "text": [
      "<class 'pandas.core.frame.DataFrame'>\n",
      "Int64Index: 962 entries, 0 to 0\n",
      "Data columns (total 14 columns):\n",
      " #   Column                   Non-Null Count  Dtype  \n",
      "---  ------                   --------------  -----  \n",
      " 0   match                    962 non-null    int64  \n",
      " 1   innings                  962 non-null    object \n",
      " 2   info.gender              962 non-null    object \n",
      " 3   info.match_type          962 non-null    object \n",
      " 4   info.outcome.by.wickets  443 non-null    float64\n",
      " 5   info.outcome.winner      926 non-null    object \n",
      " 6   info.overs               962 non-null    int64  \n",
      " 7   info.player_of_match     864 non-null    object \n",
      " 8   info.teams               962 non-null    object \n",
      " 9   info.toss.decision       962 non-null    object \n",
      " 10  info.toss.winner         962 non-null    object \n",
      " 11  info.umpires             952 non-null    object \n",
      " 12  info.venue               962 non-null    object \n",
      " 13  info.city                824 non-null    object \n",
      "dtypes: float64(1), int64(2), object(11)\n",
      "memory usage: 112.7+ KB\n"
     ]
    }
   ],
   "source": [
    "dfnew.info()"
   ]
  },
  {
   "cell_type": "markdown",
   "metadata": {},
   "source": [
    "### city column"
   ]
  },
  {
   "cell_type": "code",
   "execution_count": 291,
   "metadata": {},
   "outputs": [],
   "source": [
    "import numpy as np\n",
    "dfnew[\"info.city\"]=np.where(dfnew[\"info.city\"].isnull(),dfnew[\"info.venue\"].str.split(\" \").apply(lambda x:x[0]),dfnew[\"info.city\"])"
   ]
  },
  {
   "cell_type": "code",
   "execution_count": 292,
   "metadata": {},
   "outputs": [
    {
     "data": {
      "text/plain": [
       "0    Harare\n",
       "Name: info.city, dtype: object"
      ]
     },
     "execution_count": 292,
     "metadata": {},
     "output_type": "execute_result"
    }
   ],
   "source": [
    "dfnew[dfnew[\"match\"]==5][\"info.city\"]"
   ]
  },
  {
   "cell_type": "markdown",
   "metadata": {},
   "source": [
    "### extracting data from ininings.info"
   ]
  },
  {
   "cell_type": "code",
   "execution_count": 293,
   "metadata": {
    "scrolled": false
   },
   "outputs": [
    {
     "name": "stderr",
     "output_type": "stream",
     "text": [
      "100%|████████████████████████████████████████████████████████████████████████████████| 962/962 [09:09<00:00,  1.75it/s]\n"
     ]
    }
   ],
   "source": [
    "\n",
    "teams=[]\n",
    "new={}\n",
    "su=1\n",
    "ball=[]\n",
    "runs=[]\n",
    "wickets=[]\n",
    "count1=[]\n",
    "batsman=[]\n",
    "bowler=[]\n",
    "bowlingteam=[]\n",
    "city=[]\n",
    "for i in tqdm(dfnew[\"match\"]):\n",
    "    try:\n",
    "        bowlingte=list(dfnew[dfnew[\"match\"]==i][\"info.teams\"])[0]\n",
    "        z=dfnew[dfnew[\"match\"]==i][\"innings\"][0][0][\"1st innings\"][\"team\"]\n",
    "        wicket=0\n",
    "        su=su+1\n",
    "        ballcount=1\n",
    "        z1=len(dfnew[dfnew[\"match\"]==i][\"innings\"][0][0][\"1st innings\"]['deliveries'])\n",
    "        for u in range(z1):\n",
    "            #count=dfnew[dfnew[\"match\"]==i][\"innings\"][0][0][\"1st innings\"]['deliveries'][u][0.1][\"runs\"]['total']\n",
    "            run=list(dfnew[dfnew[\"match\"]==i][\"innings\"][0][0][\"1st innings\"]['deliveries'][u].values())[0][\"runs\"][\"total\"]\n",
    "            bt=list(dfnew[dfnew[\"match\"]==i][\"innings\"][0][0][\"1st innings\"]['deliveries'][u].values())[0][\"batsman\"]\n",
    "            bw=list(dfnew[dfnew[\"match\"]==i][\"innings\"][0][0][\"1st innings\"]['deliveries'][u].values())[0][\"bowler\"]\n",
    "            zlist=list(dfnew[dfnew[\"match\"]==i][\"innings\"][0][0][\"1st innings\"]['deliveries'][u].values())[0].keys()\n",
    "            #df[dfnew[\"match\"]==i]dfnew[\"info.city\"]\n",
    "            city1=dfnew[dfnew[\"match\"]==i][\"info.city\"][0]\n",
    "            if \"wicket\"  in zlist:\n",
    "                wicket=wicket+1\n",
    "            ball.append(ballcount)\n",
    "            ballcount=ballcount+1\n",
    "            teams.append(z)\n",
    "            count1.append(su)\n",
    "            runs.append(run)\n",
    "            wickets.append(wicket)\n",
    "            bowler.append(bw)\n",
    "            batsman.append(bt)\n",
    "            bowlingteam.append(bowlingte)\n",
    "            city.append(city1)\n",
    "        ballcount=1\n",
    "        wicket=0\n",
    "    except Exception as e:\n",
    "        pass\n",
    "\n",
    "new[\"battingteams\"]=teams\n",
    "new[\"match\"]=count1\n",
    "new[\"run\"]=runs\n",
    "new[\"ball_count\"]=ball\n",
    "new[\"wickets\"]=wickets\n",
    "new[\"batsman\"]=batsman\n",
    "new[\"bowler\"]=bowler\n",
    "new[\"city\"]=city\n",
    "new[\"bowlingteam\"]=bowlingteam\n",
    "new=pd.DataFrame(new)\n",
    "new=new.set_index(\"match\")\n"
   ]
  },
  {
   "cell_type": "markdown",
   "metadata": {},
   "source": [
    "### saving csv file"
   ]
  },
  {
   "cell_type": "code",
   "execution_count": 4,
   "metadata": {},
   "outputs": [
    {
     "ename": "NameError",
     "evalue": "name 'new' is not defined",
     "output_type": "error",
     "traceback": [
      "\u001b[1;31m---------------------------------------------------------------------------\u001b[0m",
      "\u001b[1;31mNameError\u001b[0m                                 Traceback (most recent call last)",
      "\u001b[1;32m<ipython-input-4-2d353872f2b2>\u001b[0m in \u001b[0;36m<module>\u001b[1;34m\u001b[0m\n\u001b[1;32m----> 1\u001b[1;33m \u001b[0mfinal1\u001b[0m\u001b[1;33m=\u001b[0m\u001b[0mnew\u001b[0m\u001b[1;33m.\u001b[0m\u001b[0mto_csv\u001b[0m\u001b[1;33m(\u001b[0m\u001b[1;34m\"final.csv\"\u001b[0m\u001b[1;33m)\u001b[0m\u001b[1;33m\u001b[0m\u001b[1;33m\u001b[0m\u001b[0m\n\u001b[0m",
      "\u001b[1;31mNameError\u001b[0m: name 'new' is not defined"
     ]
    }
   ],
   "source": [
    "final1=new.to_csv(\"final.csv\")"
   ]
  },
  {
   "cell_type": "code",
   "execution_count": 6,
   "metadata": {},
   "outputs": [],
   "source": [
    "\n",
    "new=pd.read_csv(\"final.csv\")"
   ]
  },
  {
   "cell_type": "code",
   "execution_count": 7,
   "metadata": {},
   "outputs": [
    {
     "name": "stdout",
     "output_type": "stream",
     "text": [
      "<class 'pandas.core.frame.DataFrame'>\n",
      "RangeIndex: 116424 entries, 0 to 116423\n",
      "Data columns (total 9 columns):\n",
      " #   Column        Non-Null Count   Dtype \n",
      "---  ------        --------------   ----- \n",
      " 0   match         116424 non-null  int64 \n",
      " 1   battingteams  116424 non-null  object\n",
      " 2   run           116424 non-null  int64 \n",
      " 3   ball_count    116424 non-null  int64 \n",
      " 4   wickets       116424 non-null  int64 \n",
      " 5   batsman       116424 non-null  object\n",
      " 6   bowler        116424 non-null  object\n",
      " 7   city          116424 non-null  object\n",
      " 8   bowlingteam   116424 non-null  object\n",
      "dtypes: int64(4), object(5)\n",
      "memory usage: 8.0+ MB\n"
     ]
    }
   ],
   "source": [
    "new.info()"
   ]
  },
  {
   "cell_type": "code",
   "execution_count": 297,
   "metadata": {},
   "outputs": [
    {
     "data": {
      "text/html": [
       "<div>\n",
       "<style scoped>\n",
       "    .dataframe tbody tr th:only-of-type {\n",
       "        vertical-align: middle;\n",
       "    }\n",
       "\n",
       "    .dataframe tbody tr th {\n",
       "        vertical-align: top;\n",
       "    }\n",
       "\n",
       "    .dataframe thead th {\n",
       "        text-align: right;\n",
       "    }\n",
       "</style>\n",
       "<table border=\"1\" class=\"dataframe\">\n",
       "  <thead>\n",
       "    <tr style=\"text-align: right;\">\n",
       "      <th></th>\n",
       "      <th>match</th>\n",
       "      <th>run</th>\n",
       "      <th>ball_count</th>\n",
       "      <th>wickets</th>\n",
       "    </tr>\n",
       "  </thead>\n",
       "  <tbody>\n",
       "    <tr>\n",
       "      <th>count</th>\n",
       "      <td>116424.000000</td>\n",
       "      <td>116424.000000</td>\n",
       "      <td>116424.000000</td>\n",
       "      <td>116424.000000</td>\n",
       "    </tr>\n",
       "    <tr>\n",
       "      <th>mean</th>\n",
       "      <td>481.885359</td>\n",
       "      <td>1.262317</td>\n",
       "      <td>61.701969</td>\n",
       "      <td>2.674182</td>\n",
       "    </tr>\n",
       "    <tr>\n",
       "      <th>std</th>\n",
       "      <td>277.484559</td>\n",
       "      <td>1.552781</td>\n",
       "      <td>35.694970</td>\n",
       "      <td>2.174463</td>\n",
       "    </tr>\n",
       "    <tr>\n",
       "      <th>min</th>\n",
       "      <td>2.000000</td>\n",
       "      <td>0.000000</td>\n",
       "      <td>1.000000</td>\n",
       "      <td>0.000000</td>\n",
       "    </tr>\n",
       "    <tr>\n",
       "      <th>25%</th>\n",
       "      <td>243.000000</td>\n",
       "      <td>0.000000</td>\n",
       "      <td>31.000000</td>\n",
       "      <td>1.000000</td>\n",
       "    </tr>\n",
       "    <tr>\n",
       "      <th>50%</th>\n",
       "      <td>481.000000</td>\n",
       "      <td>1.000000</td>\n",
       "      <td>61.000000</td>\n",
       "      <td>2.000000</td>\n",
       "    </tr>\n",
       "    <tr>\n",
       "      <th>75%</th>\n",
       "      <td>723.000000</td>\n",
       "      <td>1.000000</td>\n",
       "      <td>92.000000</td>\n",
       "      <td>4.000000</td>\n",
       "    </tr>\n",
       "    <tr>\n",
       "      <th>max</th>\n",
       "      <td>963.000000</td>\n",
       "      <td>7.000000</td>\n",
       "      <td>134.000000</td>\n",
       "      <td>10.000000</td>\n",
       "    </tr>\n",
       "  </tbody>\n",
       "</table>\n",
       "</div>"
      ],
      "text/plain": [
       "               match            run     ball_count        wickets\n",
       "count  116424.000000  116424.000000  116424.000000  116424.000000\n",
       "mean      481.885359       1.262317      61.701969       2.674182\n",
       "std       277.484559       1.552781      35.694970       2.174463\n",
       "min         2.000000       0.000000       1.000000       0.000000\n",
       "25%       243.000000       0.000000      31.000000       1.000000\n",
       "50%       481.000000       1.000000      61.000000       2.000000\n",
       "75%       723.000000       1.000000      92.000000       4.000000\n",
       "max       963.000000       7.000000     134.000000      10.000000"
      ]
     },
     "execution_count": 297,
     "metadata": {},
     "output_type": "execute_result"
    }
   ],
   "source": [
    "new.describe()"
   ]
  },
  {
   "cell_type": "code",
   "execution_count": 298,
   "metadata": {},
   "outputs": [
    {
     "data": {
      "text/html": [
       "<div>\n",
       "<style scoped>\n",
       "    .dataframe tbody tr th:only-of-type {\n",
       "        vertical-align: middle;\n",
       "    }\n",
       "\n",
       "    .dataframe tbody tr th {\n",
       "        vertical-align: top;\n",
       "    }\n",
       "\n",
       "    .dataframe thead th {\n",
       "        text-align: right;\n",
       "    }\n",
       "</style>\n",
       "<table border=\"1\" class=\"dataframe\">\n",
       "  <thead>\n",
       "    <tr style=\"text-align: right;\">\n",
       "      <th></th>\n",
       "      <th>match</th>\n",
       "      <th>battingteams</th>\n",
       "      <th>run</th>\n",
       "      <th>ball_count</th>\n",
       "      <th>wickets</th>\n",
       "      <th>batsman</th>\n",
       "      <th>bowler</th>\n",
       "      <th>city</th>\n",
       "      <th>bowlingteam</th>\n",
       "    </tr>\n",
       "  </thead>\n",
       "  <tbody>\n",
       "    <tr>\n",
       "      <th>94074</th>\n",
       "      <td>778</td>\n",
       "      <td>Netherlands</td>\n",
       "      <td>1</td>\n",
       "      <td>39</td>\n",
       "      <td>4</td>\n",
       "      <td>TLW Cooper</td>\n",
       "      <td>N M'shangwe</td>\n",
       "      <td>Sylhet</td>\n",
       "      <td>['Netherlands', 'Zimbabwe']</td>\n",
       "    </tr>\n",
       "    <tr>\n",
       "      <th>87932</th>\n",
       "      <td>728</td>\n",
       "      <td>West Indies</td>\n",
       "      <td>1</td>\n",
       "      <td>6</td>\n",
       "      <td>0</td>\n",
       "      <td>LMP Simmons</td>\n",
       "      <td>CB Mpofu</td>\n",
       "      <td>Antigua</td>\n",
       "      <td>['West Indies', 'Zimbabwe']</td>\n",
       "    </tr>\n",
       "    <tr>\n",
       "      <th>77975</th>\n",
       "      <td>644</td>\n",
       "      <td>Ireland</td>\n",
       "      <td>1</td>\n",
       "      <td>32</td>\n",
       "      <td>2</td>\n",
       "      <td>NJ O'Brien</td>\n",
       "      <td>GJ Maxwell</td>\n",
       "      <td>Colombo</td>\n",
       "      <td>['Australia', 'Ireland']</td>\n",
       "    </tr>\n",
       "    <tr>\n",
       "      <th>38690</th>\n",
       "      <td>322</td>\n",
       "      <td>Papua New Guinea</td>\n",
       "      <td>2</td>\n",
       "      <td>79</td>\n",
       "      <td>1</td>\n",
       "      <td>TP Ura</td>\n",
       "      <td>C Viljoen</td>\n",
       "      <td>Dubai</td>\n",
       "      <td>['Namibia', 'Papua New Guinea']</td>\n",
       "    </tr>\n",
       "    <tr>\n",
       "      <th>12418</th>\n",
       "      <td>103</td>\n",
       "      <td>Bangladesh</td>\n",
       "      <td>4</td>\n",
       "      <td>88</td>\n",
       "      <td>4</td>\n",
       "      <td>Mahmudullah</td>\n",
       "      <td>V Shankar</td>\n",
       "      <td>Colombo</td>\n",
       "      <td>['Bangladesh', 'India']</td>\n",
       "    </tr>\n",
       "    <tr>\n",
       "      <th>57328</th>\n",
       "      <td>474</td>\n",
       "      <td>New Zealand</td>\n",
       "      <td>4</td>\n",
       "      <td>83</td>\n",
       "      <td>4</td>\n",
       "      <td>JDP Oram</td>\n",
       "      <td>A Nel</td>\n",
       "      <td>Durban</td>\n",
       "      <td>['South Africa', 'New Zealand']</td>\n",
       "    </tr>\n",
       "    <tr>\n",
       "      <th>37352</th>\n",
       "      <td>311</td>\n",
       "      <td>Sri Lanka</td>\n",
       "      <td>2</td>\n",
       "      <td>100</td>\n",
       "      <td>4</td>\n",
       "      <td>MD Shanaka</td>\n",
       "      <td>Shadab Khan</td>\n",
       "      <td>Lahore</td>\n",
       "      <td>['Pakistan', 'Sri Lanka']</td>\n",
       "    </tr>\n",
       "    <tr>\n",
       "      <th>31482</th>\n",
       "      <td>263</td>\n",
       "      <td>Singapore</td>\n",
       "      <td>1</td>\n",
       "      <td>25</td>\n",
       "      <td>1</td>\n",
       "      <td>TH David</td>\n",
       "      <td>S Lamichhane</td>\n",
       "      <td>Singapore</td>\n",
       "      <td>['Singapore', 'Nepal']</td>\n",
       "    </tr>\n",
       "    <tr>\n",
       "      <th>12251</th>\n",
       "      <td>102</td>\n",
       "      <td>Sri Lanka</td>\n",
       "      <td>1</td>\n",
       "      <td>46</td>\n",
       "      <td>4</td>\n",
       "      <td>BMAJ Mendis</td>\n",
       "      <td>Mahmudullah</td>\n",
       "      <td>Colombo</td>\n",
       "      <td>['Sri Lanka', 'Bangladesh']</td>\n",
       "    </tr>\n",
       "    <tr>\n",
       "      <th>24395</th>\n",
       "      <td>203</td>\n",
       "      <td>Nigeria</td>\n",
       "      <td>2</td>\n",
       "      <td>120</td>\n",
       "      <td>8</td>\n",
       "      <td>CM Akachukwu</td>\n",
       "      <td>A Rangaswamy</td>\n",
       "      <td>Kampala</td>\n",
       "      <td>['Botswana', 'Nigeria']</td>\n",
       "    </tr>\n",
       "    <tr>\n",
       "      <th>113434</th>\n",
       "      <td>939</td>\n",
       "      <td>Zimbabwe</td>\n",
       "      <td>4</td>\n",
       "      <td>44</td>\n",
       "      <td>1</td>\n",
       "      <td>H Masakadza</td>\n",
       "      <td>Arafat Sunny</td>\n",
       "      <td>Khulna</td>\n",
       "      <td>['Bangladesh', 'Zimbabwe']</td>\n",
       "    </tr>\n",
       "    <tr>\n",
       "      <th>21662</th>\n",
       "      <td>180</td>\n",
       "      <td>Oman</td>\n",
       "      <td>4</td>\n",
       "      <td>33</td>\n",
       "      <td>1</td>\n",
       "      <td>Jatinder Singh</td>\n",
       "      <td>FJ Klaassen</td>\n",
       "      <td>Al Amarat</td>\n",
       "      <td>['Oman', 'Netherlands']</td>\n",
       "    </tr>\n",
       "    <tr>\n",
       "      <th>26802</th>\n",
       "      <td>224</td>\n",
       "      <td>Australia</td>\n",
       "      <td>4</td>\n",
       "      <td>27</td>\n",
       "      <td>0</td>\n",
       "      <td>AJ Finch</td>\n",
       "      <td>L Ngidi</td>\n",
       "      <td>Cape Town</td>\n",
       "      <td>['South Africa', 'Australia']</td>\n",
       "    </tr>\n",
       "    <tr>\n",
       "      <th>18356</th>\n",
       "      <td>152</td>\n",
       "      <td>New Zealand</td>\n",
       "      <td>1</td>\n",
       "      <td>59</td>\n",
       "      <td>4</td>\n",
       "      <td>LRPL Taylor</td>\n",
       "      <td>KH Pandya</td>\n",
       "      <td>Auckland</td>\n",
       "      <td>['New Zealand', 'India']</td>\n",
       "    </tr>\n",
       "    <tr>\n",
       "      <th>75927</th>\n",
       "      <td>627</td>\n",
       "      <td>Zimbabwe</td>\n",
       "      <td>1</td>\n",
       "      <td>75</td>\n",
       "      <td>1</td>\n",
       "      <td>H Masakadza</td>\n",
       "      <td>RJ Nicol</td>\n",
       "      <td>Hamilton</td>\n",
       "      <td>['New Zealand', 'Zimbabwe']</td>\n",
       "    </tr>\n",
       "  </tbody>\n",
       "</table>\n",
       "</div>"
      ],
      "text/plain": [
       "        match      battingteams  run  ball_count  wickets         batsman  \\\n",
       "94074     778       Netherlands    1          39        4      TLW Cooper   \n",
       "87932     728       West Indies    1           6        0     LMP Simmons   \n",
       "77975     644           Ireland    1          32        2      NJ O'Brien   \n",
       "38690     322  Papua New Guinea    2          79        1          TP Ura   \n",
       "12418     103        Bangladesh    4          88        4     Mahmudullah   \n",
       "57328     474       New Zealand    4          83        4        JDP Oram   \n",
       "37352     311         Sri Lanka    2         100        4      MD Shanaka   \n",
       "31482     263         Singapore    1          25        1        TH David   \n",
       "12251     102         Sri Lanka    1          46        4     BMAJ Mendis   \n",
       "24395     203           Nigeria    2         120        8    CM Akachukwu   \n",
       "113434    939          Zimbabwe    4          44        1     H Masakadza   \n",
       "21662     180              Oman    4          33        1  Jatinder Singh   \n",
       "26802     224         Australia    4          27        0        AJ Finch   \n",
       "18356     152       New Zealand    1          59        4     LRPL Taylor   \n",
       "75927     627          Zimbabwe    1          75        1     H Masakadza   \n",
       "\n",
       "              bowler       city                      bowlingteam  \n",
       "94074    N M'shangwe     Sylhet      ['Netherlands', 'Zimbabwe']  \n",
       "87932       CB Mpofu    Antigua      ['West Indies', 'Zimbabwe']  \n",
       "77975     GJ Maxwell    Colombo         ['Australia', 'Ireland']  \n",
       "38690      C Viljoen      Dubai  ['Namibia', 'Papua New Guinea']  \n",
       "12418      V Shankar    Colombo          ['Bangladesh', 'India']  \n",
       "57328          A Nel     Durban  ['South Africa', 'New Zealand']  \n",
       "37352    Shadab Khan     Lahore        ['Pakistan', 'Sri Lanka']  \n",
       "31482   S Lamichhane  Singapore           ['Singapore', 'Nepal']  \n",
       "12251    Mahmudullah    Colombo      ['Sri Lanka', 'Bangladesh']  \n",
       "24395   A Rangaswamy    Kampala          ['Botswana', 'Nigeria']  \n",
       "113434  Arafat Sunny     Khulna       ['Bangladesh', 'Zimbabwe']  \n",
       "21662    FJ Klaassen  Al Amarat          ['Oman', 'Netherlands']  \n",
       "26802        L Ngidi  Cape Town    ['South Africa', 'Australia']  \n",
       "18356      KH Pandya   Auckland         ['New Zealand', 'India']  \n",
       "75927       RJ Nicol   Hamilton      ['New Zealand', 'Zimbabwe']  "
      ]
     },
     "execution_count": 298,
     "metadata": {},
     "output_type": "execute_result"
    }
   ],
   "source": [
    "new.sample(15)"
   ]
  },
  {
   "cell_type": "code",
   "execution_count": 8,
   "metadata": {},
   "outputs": [
    {
     "data": {
      "text/plain": [
       "['Australia', 'Pakistan']       2183\n",
       "['New Zealand', 'Pakistan']     2101\n",
       "['Afghanistan', 'Ireland']      2068\n",
       "['England', 'Pakistan']         1949\n",
       "['Australia', 'India']          1943\n",
       "                                ... \n",
       "['Nepal', 'Ireland']              90\n",
       "['Botswana', 'Namibia']           78\n",
       "['Oman', 'Nepal']                 68\n",
       "['Netherlands', 'Sri Lanka']      63\n",
       "['New Zealand', 'Scotland']       42\n",
       "Name: bowlingteam, Length: 299, dtype: int64"
      ]
     },
     "execution_count": 8,
     "metadata": {},
     "output_type": "execute_result"
    }
   ],
   "source": [
    "\n",
    "new[\"bowlingteam\"].value_counts()"
   ]
  },
  {
   "cell_type": "markdown",
   "metadata": {},
   "source": [
    "### find out bowling team"
   ]
  },
  {
   "cell_type": "code",
   "execution_count": 9,
   "metadata": {},
   "outputs": [],
   "source": [
    "\n",
    "new[\"bowlingteam\"]=new[\"bowlingteam\"].str.split(\"'\")\n",
    "\n"
   ]
  },
  {
   "cell_type": "code",
   "execution_count": 10,
   "metadata": {},
   "outputs": [
    {
     "name": "stderr",
     "output_type": "stream",
     "text": [
      "  0%|                                                                                       | 0/116424 [00:00<?, ?it/s]<ipython-input-10-ad26cf66c330>:5: SettingWithCopyWarning: \n",
      "A value is trying to be set on a copy of a slice from a DataFrame\n",
      "\n",
      "See the caveats in the documentation: https://pandas.pydata.org/pandas-docs/stable/user_guide/indexing.html#returning-a-view-versus-a-copy\n",
      "  new[\"bowlingteam\"][count]=new[\"bowlingteam\"][count][3]\n",
      "  0%|▏                                                                           | 359/116424 [00:00<03:48, 508.29it/s]<ipython-input-10-ad26cf66c330>:7: SettingWithCopyWarning: \n",
      "A value is trying to be set on a copy of a slice from a DataFrame\n",
      "\n",
      "See the caveats in the documentation: https://pandas.pydata.org/pandas-docs/stable/user_guide/indexing.html#returning-a-view-versus-a-copy\n",
      "  new[\"bowlingteam\"][count]=new[\"bowlingteam\"][count][1]\n",
      "100%|█████████████████████████████████████████████████████████████████████████| 116424/116424 [03:53<00:00, 498.10it/s]\n"
     ]
    }
   ],
   "source": [
    "count=0\n",
    "for i in tqdm(new[\"match\"]):\n",
    "    z=new[\"battingteams\"][count]\n",
    "    if z==new[\"bowlingteam\"][count][1]:\n",
    "        new[\"bowlingteam\"][count]=new[\"bowlingteam\"][count][3]\n",
    "    elif z==new[\"bowlingteam\"][count][3]:\n",
    "        new[\"bowlingteam\"][count]=new[\"bowlingteam\"][count][1]\n",
    "    count=count+1   \n"
   ]
  },
  {
   "cell_type": "code",
   "execution_count": 11,
   "metadata": {},
   "outputs": [
    {
     "data": {
      "text/plain": [
       "Pakistan                    8993\n",
       "Australia                   8975\n",
       "India                       8217\n",
       "England                     8155\n",
       "West Indies                 7809\n",
       "New Zealand                 7783\n",
       "Sri Lanka                   6916\n",
       "South Africa                6160\n",
       "Bangladesh                  6113\n",
       "Ireland                     5586\n",
       "Zimbabwe                    4614\n",
       "Afghanistan                 4008\n",
       "Scotland                    3721\n",
       "Netherlands                 3698\n",
       "Hong Kong                   2879\n",
       "United Arab Emirates        2355\n",
       "Nepal                       1992\n",
       "Oman                        1987\n",
       "Kenya                       1600\n",
       "Canada                      1351\n",
       "Papua New Guinea             993\n",
       "Malaysia                     985\n",
       "Namibia                      942\n",
       "Bermuda                      746\n",
       "Spain                        630\n",
       "Botswana                     621\n",
       "United States of America     618\n",
       "Qatar                        606\n",
       "ICC World XI                 498\n",
       "Singapore                    493\n",
       "Germany                      491\n",
       "Maldives                     472\n",
       "Guernsey                     440\n",
       "Vanuatu                      415\n",
       "Philippines                  383\n",
       "Kuwait                       381\n",
       "Italy                        368\n",
       "Uganda                       368\n",
       "Portugal                     261\n",
       "Bahrain                      253\n",
       "Ghana                        251\n",
       "Norway                       249\n",
       "Jersey                       248\n",
       "Nigeria                      247\n",
       "Denmark                      247\n",
       "Thailand                     246\n",
       "Luxembourg                   246\n",
       "Romania                      222\n",
       "Cayman Islands               125\n",
       "Czech Republic               125\n",
       "Bhutan                       125\n",
       "Saudi Arabia                 116\n",
       "Bulgaria                     101\n",
       "Name: bowlingteam, dtype: int64"
      ]
     },
     "execution_count": 11,
     "metadata": {},
     "output_type": "execute_result"
    }
   ],
   "source": [
    "new[\"bowlingteam\"].value_counts()"
   ]
  },
  {
   "cell_type": "markdown",
   "metadata": {},
   "source": [
    "### retaining popular teams"
   ]
  },
  {
   "cell_type": "code",
   "execution_count": 12,
   "metadata": {},
   "outputs": [],
   "source": [
    "import numpy as np\n",
    "new=new[new[\"battingteams\"]!=new[\"bowlingteam\"]]"
   ]
  },
  {
   "cell_type": "code",
   "execution_count": 13,
   "metadata": {},
   "outputs": [
    {
     "data": {
      "text/plain": [
       "Pakistan                    8993\n",
       "Australia                   8975\n",
       "India                       8217\n",
       "England                     8155\n",
       "West Indies                 7809\n",
       "New Zealand                 7783\n",
       "Sri Lanka                   6916\n",
       "South Africa                6160\n",
       "Bangladesh                  6113\n",
       "Ireland                     5586\n",
       "Zimbabwe                    4614\n",
       "Afghanistan                 4008\n",
       "Scotland                    3721\n",
       "Netherlands                 3698\n",
       "Hong Kong                   2879\n",
       "United Arab Emirates        2355\n",
       "Nepal                       1992\n",
       "Oman                        1987\n",
       "Kenya                       1600\n",
       "Canada                      1351\n",
       "Papua New Guinea             993\n",
       "Malaysia                     985\n",
       "Namibia                      942\n",
       "Bermuda                      746\n",
       "Spain                        630\n",
       "Botswana                     621\n",
       "United States of America     618\n",
       "Qatar                        606\n",
       "ICC World XI                 498\n",
       "Singapore                    493\n",
       "Germany                      491\n",
       "Maldives                     472\n",
       "Guernsey                     440\n",
       "Vanuatu                      415\n",
       "Philippines                  383\n",
       "Kuwait                       381\n",
       "Italy                        368\n",
       "Uganda                       368\n",
       "Portugal                     261\n",
       "Bahrain                      253\n",
       "Ghana                        251\n",
       "Norway                       249\n",
       "Jersey                       248\n",
       "Nigeria                      247\n",
       "Denmark                      247\n",
       "Thailand                     246\n",
       "Luxembourg                   246\n",
       "Romania                      222\n",
       "Cayman Islands               125\n",
       "Czech Republic               125\n",
       "Bhutan                       125\n",
       "Saudi Arabia                 116\n",
       "Bulgaria                     101\n",
       "Name: bowlingteam, dtype: int64"
      ]
     },
     "execution_count": 13,
     "metadata": {},
     "output_type": "execute_result"
    }
   ],
   "source": [
    "new[\"bowlingteam\"].value_counts()"
   ]
  },
  {
   "cell_type": "code",
   "execution_count": 14,
   "metadata": {},
   "outputs": [
    {
     "data": {
      "text/plain": [
       "array(['Australia', 'Hong Kong', 'Zimbabwe', 'India', 'Bangladesh',\n",
       "       'New Zealand', 'South Africa', 'England', 'West Indies', 'Ireland',\n",
       "       'Afghanistan', 'Pakistan', 'United Arab Emirates', 'Scotland',\n",
       "       'Oman', 'Papua New Guinea', 'Sri Lanka', 'Netherlands', 'Nepal',\n",
       "       'Vanuatu', 'Philippines', 'United States of America', 'Germany',\n",
       "       'Ghana', 'Uganda', 'Kenya', 'Namibia', 'Nigeria', 'Botswana',\n",
       "       'Guernsey', 'Denmark', 'Jersey', 'Italy', 'Norway', 'Thailand',\n",
       "       'Malaysia', 'Maldives', 'Singapore', 'Kuwait', 'Bermuda', 'Canada',\n",
       "       'Cayman Islands', 'Portugal', 'Gibraltar', 'Spain', 'Bhutan',\n",
       "       'Qatar', 'Iran', 'Belgium', 'Isle of Man', 'Bulgaria', 'Romania'],\n",
       "      dtype=object)"
      ]
     },
     "execution_count": 14,
     "metadata": {},
     "output_type": "execute_result"
    }
   ],
   "source": [
    "new[\"battingteams\"].unique()"
   ]
  },
  {
   "cell_type": "code",
   "execution_count": 15,
   "metadata": {},
   "outputs": [],
   "source": [
    "teams=['Australia','Zimbabwe', 'India', 'Bangladesh',\n",
    "       'New Zealand', 'South Africa', 'England', 'West Indies', 'Ireland',\n",
    "       'Afghanistan', 'Pakistan',\"Sri Lanka\"]"
   ]
  },
  {
   "cell_type": "code",
   "execution_count": 16,
   "metadata": {},
   "outputs": [],
   "source": [
    "new=new[new[\"battingteams\"].isin(teams)]"
   ]
  },
  {
   "cell_type": "code",
   "execution_count": 17,
   "metadata": {},
   "outputs": [
    {
     "data": {
      "text/plain": [
       "Pakistan        10339\n",
       "South Africa     8434\n",
       "India            8382\n",
       "New Zealand      8357\n",
       "Sri Lanka        8057\n",
       "West Indies      7243\n",
       "Australia        6984\n",
       "England          6967\n",
       "Afghanistan      5206\n",
       "Bangladesh       4881\n",
       "Ireland          4661\n",
       "Zimbabwe         4361\n",
       "Name: battingteams, dtype: int64"
      ]
     },
     "execution_count": 17,
     "metadata": {},
     "output_type": "execute_result"
    }
   ],
   "source": [
    "new[\"battingteams\"].value_counts()"
   ]
  },
  {
   "cell_type": "code",
   "execution_count": 18,
   "metadata": {},
   "outputs": [
    {
     "data": {
      "text/plain": [
       "array(['Sri Lanka', 'India', 'Zimbabwe', 'New Zealand', 'Bangladesh',\n",
       "       'England', 'South Africa', 'Afghanistan', 'Ireland', 'Pakistan',\n",
       "       'West Indies', 'United Arab Emirates', 'Australia', 'Scotland',\n",
       "       'ICC World XI', 'Netherlands', 'Oman', 'Hong Kong', 'Nepal',\n",
       "       'Namibia', 'Kenya', 'Canada', 'Papua New Guinea'], dtype=object)"
      ]
     },
     "execution_count": 18,
     "metadata": {},
     "output_type": "execute_result"
    }
   ],
   "source": [
    "\n",
    "new[\"bowlingteam\"].unique()"
   ]
  },
  {
   "cell_type": "code",
   "execution_count": 19,
   "metadata": {},
   "outputs": [],
   "source": [
    "new=new[new[\"bowlingteam\"].isin(teams)]"
   ]
  },
  {
   "cell_type": "code",
   "execution_count": 21,
   "metadata": {},
   "outputs": [
    {
     "name": "stdout",
     "output_type": "stream",
     "text": [
      "<class 'pandas.core.frame.DataFrame'>\n",
      "Int64Index: 76547 entries, 0 to 116423\n",
      "Data columns (total 9 columns):\n",
      " #   Column        Non-Null Count  Dtype \n",
      "---  ------        --------------  ----- \n",
      " 0   match         76547 non-null  int64 \n",
      " 1   battingteams  76547 non-null  object\n",
      " 2   run           76547 non-null  int64 \n",
      " 3   ball_count    76547 non-null  int64 \n",
      " 4   wickets       76547 non-null  int64 \n",
      " 5   batsman       76547 non-null  object\n",
      " 6   bowler        76547 non-null  object\n",
      " 7   city          76547 non-null  object\n",
      " 8   bowlingteam   76547 non-null  object\n",
      "dtypes: int64(4), object(5)\n",
      "memory usage: 5.8+ MB\n"
     ]
    }
   ],
   "source": [
    "\n",
    "new.info()\n",
    "new.to_csv(\"new.csv\")"
   ]
  },
  {
   "cell_type": "code",
   "execution_count": 61,
   "metadata": {},
   "outputs": [],
   "source": [
    "new=pd.read_csv(\"new.csv\")"
   ]
  },
  {
   "cell_type": "markdown",
   "metadata": {},
   "source": [
    "### copy file"
   ]
  },
  {
   "cell_type": "code",
   "execution_count": 62,
   "metadata": {},
   "outputs": [
    {
     "data": {
      "text/html": [
       "<div>\n",
       "<style scoped>\n",
       "    .dataframe tbody tr th:only-of-type {\n",
       "        vertical-align: middle;\n",
       "    }\n",
       "\n",
       "    .dataframe tbody tr th {\n",
       "        vertical-align: top;\n",
       "    }\n",
       "\n",
       "    .dataframe thead th {\n",
       "        text-align: right;\n",
       "    }\n",
       "</style>\n",
       "<table border=\"1\" class=\"dataframe\">\n",
       "  <thead>\n",
       "    <tr style=\"text-align: right;\">\n",
       "      <th></th>\n",
       "      <th>Unnamed: 0</th>\n",
       "      <th>match</th>\n",
       "      <th>battingteams</th>\n",
       "      <th>run</th>\n",
       "      <th>ball_count</th>\n",
       "      <th>wickets</th>\n",
       "      <th>batsman</th>\n",
       "      <th>bowler</th>\n",
       "      <th>city</th>\n",
       "      <th>bowlingteam</th>\n",
       "    </tr>\n",
       "  </thead>\n",
       "  <tbody>\n",
       "    <tr>\n",
       "      <th>0</th>\n",
       "      <td>0</td>\n",
       "      <td>2</td>\n",
       "      <td>Australia</td>\n",
       "      <td>0</td>\n",
       "      <td>1</td>\n",
       "      <td>0</td>\n",
       "      <td>AJ Finch</td>\n",
       "      <td>SL Malinga</td>\n",
       "      <td>Melbourne</td>\n",
       "      <td>Sri Lanka</td>\n",
       "    </tr>\n",
       "    <tr>\n",
       "      <th>1</th>\n",
       "      <td>1</td>\n",
       "      <td>2</td>\n",
       "      <td>Australia</td>\n",
       "      <td>0</td>\n",
       "      <td>2</td>\n",
       "      <td>0</td>\n",
       "      <td>AJ Finch</td>\n",
       "      <td>SL Malinga</td>\n",
       "      <td>Melbourne</td>\n",
       "      <td>Sri Lanka</td>\n",
       "    </tr>\n",
       "  </tbody>\n",
       "</table>\n",
       "</div>"
      ],
      "text/plain": [
       "   Unnamed: 0  match battingteams  run  ball_count  wickets   batsman  \\\n",
       "0           0      2    Australia    0           1        0  AJ Finch   \n",
       "1           1      2    Australia    0           2        0  AJ Finch   \n",
       "\n",
       "       bowler       city bowlingteam  \n",
       "0  SL Malinga  Melbourne   Sri Lanka  \n",
       "1  SL Malinga  Melbourne   Sri Lanka  "
      ]
     },
     "execution_count": 62,
     "metadata": {},
     "output_type": "execute_result"
    }
   ],
   "source": [
    "new2=new.copy()\n",
    "new.head(2)"
   ]
  },
  {
   "cell_type": "markdown",
   "metadata": {},
   "source": [
    "### finding total in a match"
   ]
  },
  {
   "cell_type": "code",
   "execution_count": 63,
   "metadata": {},
   "outputs": [],
   "source": [
    "z=new.groupby('match').sum()['run'].reset_index()\n",
    "new = new.merge(z,on='match')\n"
   ]
  },
  {
   "cell_type": "markdown",
   "metadata": {},
   "source": [
    "### finding current score"
   ]
  },
  {
   "cell_type": "code",
   "execution_count": 64,
   "metadata": {},
   "outputs": [],
   "source": [
    "new['current_score'] = new.groupby('match').cumsum()['run_x']"
   ]
  },
  {
   "cell_type": "code",
   "execution_count": 65,
   "metadata": {},
   "outputs": [
    {
     "name": "stdout",
     "output_type": "stream",
     "text": [
      "<class 'pandas.core.frame.DataFrame'>\n",
      "Int64Index: 76547 entries, 0 to 76546\n",
      "Data columns (total 12 columns):\n",
      " #   Column         Non-Null Count  Dtype \n",
      "---  ------         --------------  ----- \n",
      " 0   Unnamed: 0     76547 non-null  int64 \n",
      " 1   match          76547 non-null  int64 \n",
      " 2   battingteams   76547 non-null  object\n",
      " 3   run_x          76547 non-null  int64 \n",
      " 4   ball_count     76547 non-null  int64 \n",
      " 5   wickets        76547 non-null  int64 \n",
      " 6   batsman        76547 non-null  object\n",
      " 7   bowler         76547 non-null  object\n",
      " 8   city           76547 non-null  object\n",
      " 9   bowlingteam    76547 non-null  object\n",
      " 10  run_y          76547 non-null  int64 \n",
      " 11  current_score  76547 non-null  int64 \n",
      "dtypes: int64(7), object(5)\n",
      "memory usage: 7.6+ MB\n"
     ]
    }
   ],
   "source": [
    "new.sample(12)\n",
    "new.info()\n",
    "    "
   ]
  },
  {
   "cell_type": "markdown",
   "metadata": {},
   "source": [
    "### finding wicket left"
   ]
  },
  {
   "cell_type": "markdown",
   "metadata": {},
   "source": [
    "### "
   ]
  },
  {
   "cell_type": "code",
   "execution_count": 66,
   "metadata": {},
   "outputs": [],
   "source": [
    "new['wickets_left'] = 10 - new['wickets']"
   ]
  },
  {
   "cell_type": "code",
   "execution_count": 67,
   "metadata": {},
   "outputs": [
    {
     "data": {
      "text/html": [
       "<div>\n",
       "<style scoped>\n",
       "    .dataframe tbody tr th:only-of-type {\n",
       "        vertical-align: middle;\n",
       "    }\n",
       "\n",
       "    .dataframe tbody tr th {\n",
       "        vertical-align: top;\n",
       "    }\n",
       "\n",
       "    .dataframe thead th {\n",
       "        text-align: right;\n",
       "    }\n",
       "</style>\n",
       "<table border=\"1\" class=\"dataframe\">\n",
       "  <thead>\n",
       "    <tr style=\"text-align: right;\">\n",
       "      <th></th>\n",
       "      <th>Unnamed: 0</th>\n",
       "      <th>match</th>\n",
       "      <th>battingteams</th>\n",
       "      <th>run_x</th>\n",
       "      <th>ball_count</th>\n",
       "      <th>wickets</th>\n",
       "      <th>batsman</th>\n",
       "      <th>bowler</th>\n",
       "      <th>city</th>\n",
       "      <th>bowlingteam</th>\n",
       "      <th>run_y</th>\n",
       "      <th>current_score</th>\n",
       "      <th>wickets_left</th>\n",
       "    </tr>\n",
       "  </thead>\n",
       "  <tbody>\n",
       "    <tr>\n",
       "      <th>0</th>\n",
       "      <td>0</td>\n",
       "      <td>2</td>\n",
       "      <td>Australia</td>\n",
       "      <td>0</td>\n",
       "      <td>1</td>\n",
       "      <td>0</td>\n",
       "      <td>AJ Finch</td>\n",
       "      <td>SL Malinga</td>\n",
       "      <td>Melbourne</td>\n",
       "      <td>Sri Lanka</td>\n",
       "      <td>168</td>\n",
       "      <td>0</td>\n",
       "      <td>10</td>\n",
       "    </tr>\n",
       "    <tr>\n",
       "      <th>1</th>\n",
       "      <td>1</td>\n",
       "      <td>2</td>\n",
       "      <td>Australia</td>\n",
       "      <td>0</td>\n",
       "      <td>2</td>\n",
       "      <td>0</td>\n",
       "      <td>AJ Finch</td>\n",
       "      <td>SL Malinga</td>\n",
       "      <td>Melbourne</td>\n",
       "      <td>Sri Lanka</td>\n",
       "      <td>168</td>\n",
       "      <td>0</td>\n",
       "      <td>10</td>\n",
       "    </tr>\n",
       "    <tr>\n",
       "      <th>2</th>\n",
       "      <td>2</td>\n",
       "      <td>2</td>\n",
       "      <td>Australia</td>\n",
       "      <td>1</td>\n",
       "      <td>3</td>\n",
       "      <td>0</td>\n",
       "      <td>AJ Finch</td>\n",
       "      <td>SL Malinga</td>\n",
       "      <td>Melbourne</td>\n",
       "      <td>Sri Lanka</td>\n",
       "      <td>168</td>\n",
       "      <td>1</td>\n",
       "      <td>10</td>\n",
       "    </tr>\n",
       "    <tr>\n",
       "      <th>3</th>\n",
       "      <td>3</td>\n",
       "      <td>2</td>\n",
       "      <td>Australia</td>\n",
       "      <td>2</td>\n",
       "      <td>4</td>\n",
       "      <td>0</td>\n",
       "      <td>M Klinger</td>\n",
       "      <td>SL Malinga</td>\n",
       "      <td>Melbourne</td>\n",
       "      <td>Sri Lanka</td>\n",
       "      <td>168</td>\n",
       "      <td>3</td>\n",
       "      <td>10</td>\n",
       "    </tr>\n",
       "    <tr>\n",
       "      <th>4</th>\n",
       "      <td>4</td>\n",
       "      <td>2</td>\n",
       "      <td>Australia</td>\n",
       "      <td>0</td>\n",
       "      <td>5</td>\n",
       "      <td>0</td>\n",
       "      <td>M Klinger</td>\n",
       "      <td>SL Malinga</td>\n",
       "      <td>Melbourne</td>\n",
       "      <td>Sri Lanka</td>\n",
       "      <td>168</td>\n",
       "      <td>3</td>\n",
       "      <td>10</td>\n",
       "    </tr>\n",
       "    <tr>\n",
       "      <th>...</th>\n",
       "      <td>...</td>\n",
       "      <td>...</td>\n",
       "      <td>...</td>\n",
       "      <td>...</td>\n",
       "      <td>...</td>\n",
       "      <td>...</td>\n",
       "      <td>...</td>\n",
       "      <td>...</td>\n",
       "      <td>...</td>\n",
       "      <td>...</td>\n",
       "      <td>...</td>\n",
       "      <td>...</td>\n",
       "      <td>...</td>\n",
       "    </tr>\n",
       "    <tr>\n",
       "      <th>76542</th>\n",
       "      <td>116419</td>\n",
       "      <td>963</td>\n",
       "      <td>Sri Lanka</td>\n",
       "      <td>1</td>\n",
       "      <td>122</td>\n",
       "      <td>8</td>\n",
       "      <td>SMSM Senanayake</td>\n",
       "      <td>MA Starc</td>\n",
       "      <td>Colombo</td>\n",
       "      <td>Australia</td>\n",
       "      <td>128</td>\n",
       "      <td>125</td>\n",
       "      <td>2</td>\n",
       "    </tr>\n",
       "    <tr>\n",
       "      <th>76543</th>\n",
       "      <td>116420</td>\n",
       "      <td>963</td>\n",
       "      <td>Sri Lanka</td>\n",
       "      <td>0</td>\n",
       "      <td>123</td>\n",
       "      <td>8</td>\n",
       "      <td>DM de Silva</td>\n",
       "      <td>MA Starc</td>\n",
       "      <td>Colombo</td>\n",
       "      <td>Australia</td>\n",
       "      <td>128</td>\n",
       "      <td>125</td>\n",
       "      <td>2</td>\n",
       "    </tr>\n",
       "    <tr>\n",
       "      <th>76544</th>\n",
       "      <td>116421</td>\n",
       "      <td>963</td>\n",
       "      <td>Sri Lanka</td>\n",
       "      <td>0</td>\n",
       "      <td>124</td>\n",
       "      <td>9</td>\n",
       "      <td>DM de Silva</td>\n",
       "      <td>MA Starc</td>\n",
       "      <td>Colombo</td>\n",
       "      <td>Australia</td>\n",
       "      <td>128</td>\n",
       "      <td>125</td>\n",
       "      <td>1</td>\n",
       "    </tr>\n",
       "    <tr>\n",
       "      <th>76545</th>\n",
       "      <td>116422</td>\n",
       "      <td>963</td>\n",
       "      <td>Sri Lanka</td>\n",
       "      <td>2</td>\n",
       "      <td>125</td>\n",
       "      <td>9</td>\n",
       "      <td>SMSM Senanayake</td>\n",
       "      <td>MA Starc</td>\n",
       "      <td>Colombo</td>\n",
       "      <td>Australia</td>\n",
       "      <td>128</td>\n",
       "      <td>127</td>\n",
       "      <td>1</td>\n",
       "    </tr>\n",
       "    <tr>\n",
       "      <th>76546</th>\n",
       "      <td>116423</td>\n",
       "      <td>963</td>\n",
       "      <td>Sri Lanka</td>\n",
       "      <td>1</td>\n",
       "      <td>126</td>\n",
       "      <td>9</td>\n",
       "      <td>SMSM Senanayake</td>\n",
       "      <td>MA Starc</td>\n",
       "      <td>Colombo</td>\n",
       "      <td>Australia</td>\n",
       "      <td>128</td>\n",
       "      <td>128</td>\n",
       "      <td>1</td>\n",
       "    </tr>\n",
       "  </tbody>\n",
       "</table>\n",
       "<p>76547 rows × 13 columns</p>\n",
       "</div>"
      ],
      "text/plain": [
       "       Unnamed: 0  match battingteams  run_x  ball_count  wickets  \\\n",
       "0               0      2    Australia      0           1        0   \n",
       "1               1      2    Australia      0           2        0   \n",
       "2               2      2    Australia      1           3        0   \n",
       "3               3      2    Australia      2           4        0   \n",
       "4               4      2    Australia      0           5        0   \n",
       "...           ...    ...          ...    ...         ...      ...   \n",
       "76542      116419    963    Sri Lanka      1         122        8   \n",
       "76543      116420    963    Sri Lanka      0         123        8   \n",
       "76544      116421    963    Sri Lanka      0         124        9   \n",
       "76545      116422    963    Sri Lanka      2         125        9   \n",
       "76546      116423    963    Sri Lanka      1         126        9   \n",
       "\n",
       "               batsman      bowler       city bowlingteam  run_y  \\\n",
       "0             AJ Finch  SL Malinga  Melbourne   Sri Lanka    168   \n",
       "1             AJ Finch  SL Malinga  Melbourne   Sri Lanka    168   \n",
       "2             AJ Finch  SL Malinga  Melbourne   Sri Lanka    168   \n",
       "3            M Klinger  SL Malinga  Melbourne   Sri Lanka    168   \n",
       "4            M Klinger  SL Malinga  Melbourne   Sri Lanka    168   \n",
       "...                ...         ...        ...         ...    ...   \n",
       "76542  SMSM Senanayake    MA Starc    Colombo   Australia    128   \n",
       "76543      DM de Silva    MA Starc    Colombo   Australia    128   \n",
       "76544      DM de Silva    MA Starc    Colombo   Australia    128   \n",
       "76545  SMSM Senanayake    MA Starc    Colombo   Australia    128   \n",
       "76546  SMSM Senanayake    MA Starc    Colombo   Australia    128   \n",
       "\n",
       "       current_score  wickets_left  \n",
       "0                  0            10  \n",
       "1                  0            10  \n",
       "2                  1            10  \n",
       "3                  3            10  \n",
       "4                  3            10  \n",
       "...              ...           ...  \n",
       "76542            125             2  \n",
       "76543            125             2  \n",
       "76544            125             1  \n",
       "76545            127             1  \n",
       "76546            128             1  \n",
       "\n",
       "[76547 rows x 13 columns]"
      ]
     },
     "execution_count": 67,
     "metadata": {},
     "output_type": "execute_result"
    }
   ],
   "source": [
    "new"
   ]
  },
  {
   "cell_type": "code",
   "execution_count": null,
   "metadata": {},
   "outputs": [],
   "source": []
  },
  {
   "cell_type": "code",
   "execution_count": 68,
   "metadata": {},
   "outputs": [],
   "source": [
    "new['crr'] = round((new['current_score']*6)/new['ball_count'],2)"
   ]
  },
  {
   "cell_type": "code",
   "execution_count": 69,
   "metadata": {},
   "outputs": [
    {
     "data": {
      "text/html": [
       "<div>\n",
       "<style scoped>\n",
       "    .dataframe tbody tr th:only-of-type {\n",
       "        vertical-align: middle;\n",
       "    }\n",
       "\n",
       "    .dataframe tbody tr th {\n",
       "        vertical-align: top;\n",
       "    }\n",
       "\n",
       "    .dataframe thead th {\n",
       "        text-align: right;\n",
       "    }\n",
       "</style>\n",
       "<table border=\"1\" class=\"dataframe\">\n",
       "  <thead>\n",
       "    <tr style=\"text-align: right;\">\n",
       "      <th></th>\n",
       "      <th>Unnamed: 0</th>\n",
       "      <th>match</th>\n",
       "      <th>battingteams</th>\n",
       "      <th>run_x</th>\n",
       "      <th>ball_count</th>\n",
       "      <th>wickets</th>\n",
       "      <th>batsman</th>\n",
       "      <th>bowler</th>\n",
       "      <th>city</th>\n",
       "      <th>bowlingteam</th>\n",
       "      <th>run_y</th>\n",
       "      <th>current_score</th>\n",
       "      <th>wickets_left</th>\n",
       "      <th>crr</th>\n",
       "    </tr>\n",
       "  </thead>\n",
       "  <tbody>\n",
       "    <tr>\n",
       "      <th>64054</th>\n",
       "      <td>97770</td>\n",
       "      <td>808</td>\n",
       "      <td>Pakistan</td>\n",
       "      <td>1</td>\n",
       "      <td>77</td>\n",
       "      <td>2</td>\n",
       "      <td>Mohammad Hafeez</td>\n",
       "      <td>JP Duminy</td>\n",
       "      <td>Cape Town</td>\n",
       "      <td>South Africa</td>\n",
       "      <td>176</td>\n",
       "      <td>97</td>\n",
       "      <td>8</td>\n",
       "      <td>7.56</td>\n",
       "    </tr>\n",
       "    <tr>\n",
       "      <th>38759</th>\n",
       "      <td>66498</td>\n",
       "      <td>550</td>\n",
       "      <td>Australia</td>\n",
       "      <td>1</td>\n",
       "      <td>111</td>\n",
       "      <td>9</td>\n",
       "      <td>SW Tait</td>\n",
       "      <td>Umar Gul</td>\n",
       "      <td>Melbourne</td>\n",
       "      <td>Pakistan</td>\n",
       "      <td>127</td>\n",
       "      <td>126</td>\n",
       "      <td>1</td>\n",
       "      <td>6.81</td>\n",
       "    </tr>\n",
       "  </tbody>\n",
       "</table>\n",
       "</div>"
      ],
      "text/plain": [
       "       Unnamed: 0  match battingteams  run_x  ball_count  wickets  \\\n",
       "64054       97770    808     Pakistan      1          77        2   \n",
       "38759       66498    550    Australia      1         111        9   \n",
       "\n",
       "               batsman     bowler       city   bowlingteam  run_y  \\\n",
       "64054  Mohammad Hafeez  JP Duminy  Cape Town  South Africa    176   \n",
       "38759          SW Tait   Umar Gul  Melbourne      Pakistan    127   \n",
       "\n",
       "       current_score  wickets_left   crr  \n",
       "64054             97             8  7.56  \n",
       "38759            126             1  6.81  "
      ]
     },
     "execution_count": 69,
     "metadata": {},
     "output_type": "execute_result"
    }
   ],
   "source": [
    "new.sample(2)"
   ]
  },
  {
   "cell_type": "markdown",
   "metadata": {},
   "source": [
    "### finding current run rate"
   ]
  },
  {
   "cell_type": "code",
   "execution_count": 70,
   "metadata": {},
   "outputs": [],
   "source": [
    "new['balls_left'] = 120 - new['ball_count']\n",
    "new['balls_left'] = new['balls_left'].apply(lambda x:0 if x<0 else x)"
   ]
  },
  {
   "cell_type": "code",
   "execution_count": 71,
   "metadata": {},
   "outputs": [],
   "source": [
    "new['crr'] = round((new['current_score']*6)/new['ball_count'],2)"
   ]
  },
  {
   "cell_type": "markdown",
   "metadata": {},
   "source": [
    "### taking important columns"
   ]
  },
  {
   "cell_type": "code",
   "execution_count": 72,
   "metadata": {},
   "outputs": [],
   "source": [
    "final_df = new[['match','battingteams','bowlingteam','run_x','current_score','ball_count','wickets_left','crr','city','run_y']]"
   ]
  },
  {
   "cell_type": "code",
   "execution_count": 73,
   "metadata": {},
   "outputs": [
    {
     "data": {
      "text/html": [
       "<div>\n",
       "<style scoped>\n",
       "    .dataframe tbody tr th:only-of-type {\n",
       "        vertical-align: middle;\n",
       "    }\n",
       "\n",
       "    .dataframe tbody tr th {\n",
       "        vertical-align: top;\n",
       "    }\n",
       "\n",
       "    .dataframe thead th {\n",
       "        text-align: right;\n",
       "    }\n",
       "</style>\n",
       "<table border=\"1\" class=\"dataframe\">\n",
       "  <thead>\n",
       "    <tr style=\"text-align: right;\">\n",
       "      <th></th>\n",
       "      <th>match</th>\n",
       "      <th>battingteams</th>\n",
       "      <th>bowlingteam</th>\n",
       "      <th>run_x</th>\n",
       "      <th>current_score</th>\n",
       "      <th>ball_count</th>\n",
       "      <th>wickets_left</th>\n",
       "      <th>crr</th>\n",
       "      <th>city</th>\n",
       "      <th>run_y</th>\n",
       "    </tr>\n",
       "  </thead>\n",
       "  <tbody>\n",
       "    <tr>\n",
       "      <th>0</th>\n",
       "      <td>2</td>\n",
       "      <td>Australia</td>\n",
       "      <td>Sri Lanka</td>\n",
       "      <td>0</td>\n",
       "      <td>0</td>\n",
       "      <td>1</td>\n",
       "      <td>10</td>\n",
       "      <td>0.00</td>\n",
       "      <td>Melbourne</td>\n",
       "      <td>168</td>\n",
       "    </tr>\n",
       "    <tr>\n",
       "      <th>1</th>\n",
       "      <td>2</td>\n",
       "      <td>Australia</td>\n",
       "      <td>Sri Lanka</td>\n",
       "      <td>0</td>\n",
       "      <td>0</td>\n",
       "      <td>2</td>\n",
       "      <td>10</td>\n",
       "      <td>0.00</td>\n",
       "      <td>Melbourne</td>\n",
       "      <td>168</td>\n",
       "    </tr>\n",
       "    <tr>\n",
       "      <th>2</th>\n",
       "      <td>2</td>\n",
       "      <td>Australia</td>\n",
       "      <td>Sri Lanka</td>\n",
       "      <td>1</td>\n",
       "      <td>1</td>\n",
       "      <td>3</td>\n",
       "      <td>10</td>\n",
       "      <td>2.00</td>\n",
       "      <td>Melbourne</td>\n",
       "      <td>168</td>\n",
       "    </tr>\n",
       "    <tr>\n",
       "      <th>3</th>\n",
       "      <td>2</td>\n",
       "      <td>Australia</td>\n",
       "      <td>Sri Lanka</td>\n",
       "      <td>2</td>\n",
       "      <td>3</td>\n",
       "      <td>4</td>\n",
       "      <td>10</td>\n",
       "      <td>4.50</td>\n",
       "      <td>Melbourne</td>\n",
       "      <td>168</td>\n",
       "    </tr>\n",
       "    <tr>\n",
       "      <th>4</th>\n",
       "      <td>2</td>\n",
       "      <td>Australia</td>\n",
       "      <td>Sri Lanka</td>\n",
       "      <td>0</td>\n",
       "      <td>3</td>\n",
       "      <td>5</td>\n",
       "      <td>10</td>\n",
       "      <td>3.60</td>\n",
       "      <td>Melbourne</td>\n",
       "      <td>168</td>\n",
       "    </tr>\n",
       "    <tr>\n",
       "      <th>...</th>\n",
       "      <td>...</td>\n",
       "      <td>...</td>\n",
       "      <td>...</td>\n",
       "      <td>...</td>\n",
       "      <td>...</td>\n",
       "      <td>...</td>\n",
       "      <td>...</td>\n",
       "      <td>...</td>\n",
       "      <td>...</td>\n",
       "      <td>...</td>\n",
       "    </tr>\n",
       "    <tr>\n",
       "      <th>76542</th>\n",
       "      <td>963</td>\n",
       "      <td>Sri Lanka</td>\n",
       "      <td>Australia</td>\n",
       "      <td>1</td>\n",
       "      <td>125</td>\n",
       "      <td>122</td>\n",
       "      <td>2</td>\n",
       "      <td>6.15</td>\n",
       "      <td>Colombo</td>\n",
       "      <td>128</td>\n",
       "    </tr>\n",
       "    <tr>\n",
       "      <th>76543</th>\n",
       "      <td>963</td>\n",
       "      <td>Sri Lanka</td>\n",
       "      <td>Australia</td>\n",
       "      <td>0</td>\n",
       "      <td>125</td>\n",
       "      <td>123</td>\n",
       "      <td>2</td>\n",
       "      <td>6.10</td>\n",
       "      <td>Colombo</td>\n",
       "      <td>128</td>\n",
       "    </tr>\n",
       "    <tr>\n",
       "      <th>76544</th>\n",
       "      <td>963</td>\n",
       "      <td>Sri Lanka</td>\n",
       "      <td>Australia</td>\n",
       "      <td>0</td>\n",
       "      <td>125</td>\n",
       "      <td>124</td>\n",
       "      <td>1</td>\n",
       "      <td>6.05</td>\n",
       "      <td>Colombo</td>\n",
       "      <td>128</td>\n",
       "    </tr>\n",
       "    <tr>\n",
       "      <th>76545</th>\n",
       "      <td>963</td>\n",
       "      <td>Sri Lanka</td>\n",
       "      <td>Australia</td>\n",
       "      <td>2</td>\n",
       "      <td>127</td>\n",
       "      <td>125</td>\n",
       "      <td>1</td>\n",
       "      <td>6.10</td>\n",
       "      <td>Colombo</td>\n",
       "      <td>128</td>\n",
       "    </tr>\n",
       "    <tr>\n",
       "      <th>76546</th>\n",
       "      <td>963</td>\n",
       "      <td>Sri Lanka</td>\n",
       "      <td>Australia</td>\n",
       "      <td>1</td>\n",
       "      <td>128</td>\n",
       "      <td>126</td>\n",
       "      <td>1</td>\n",
       "      <td>6.10</td>\n",
       "      <td>Colombo</td>\n",
       "      <td>128</td>\n",
       "    </tr>\n",
       "  </tbody>\n",
       "</table>\n",
       "<p>76547 rows × 10 columns</p>\n",
       "</div>"
      ],
      "text/plain": [
       "       match battingteams bowlingteam  run_x  current_score  ball_count  \\\n",
       "0          2    Australia   Sri Lanka      0              0           1   \n",
       "1          2    Australia   Sri Lanka      0              0           2   \n",
       "2          2    Australia   Sri Lanka      1              1           3   \n",
       "3          2    Australia   Sri Lanka      2              3           4   \n",
       "4          2    Australia   Sri Lanka      0              3           5   \n",
       "...      ...          ...         ...    ...            ...         ...   \n",
       "76542    963    Sri Lanka   Australia      1            125         122   \n",
       "76543    963    Sri Lanka   Australia      0            125         123   \n",
       "76544    963    Sri Lanka   Australia      0            125         124   \n",
       "76545    963    Sri Lanka   Australia      2            127         125   \n",
       "76546    963    Sri Lanka   Australia      1            128         126   \n",
       "\n",
       "       wickets_left   crr       city  run_y  \n",
       "0                10  0.00  Melbourne    168  \n",
       "1                10  0.00  Melbourne    168  \n",
       "2                10  2.00  Melbourne    168  \n",
       "3                10  4.50  Melbourne    168  \n",
       "4                10  3.60  Melbourne    168  \n",
       "...             ...   ...        ...    ...  \n",
       "76542             2  6.15    Colombo    128  \n",
       "76543             2  6.10    Colombo    128  \n",
       "76544             1  6.05    Colombo    128  \n",
       "76545             1  6.10    Colombo    128  \n",
       "76546             1  6.10    Colombo    128  \n",
       "\n",
       "[76547 rows x 10 columns]"
      ]
     },
     "execution_count": 73,
     "metadata": {},
     "output_type": "execute_result"
    }
   ],
   "source": [
    "final_df"
   ]
  },
  {
   "cell_type": "code",
   "execution_count": null,
   "metadata": {},
   "outputs": [],
   "source": []
  },
  {
   "cell_type": "code",
   "execution_count": null,
   "metadata": {},
   "outputs": [],
   "source": []
  },
  {
   "cell_type": "markdown",
   "metadata": {},
   "source": [
    "### counting last five overs score and removing nan values"
   ]
  },
  {
   "cell_type": "code",
   "execution_count": 74,
   "metadata": {},
   "outputs": [],
   "source": [
    "groups = final_df.groupby('match')"
   ]
  },
  {
   "cell_type": "code",
   "execution_count": 75,
   "metadata": {},
   "outputs": [],
   "source": [
    "match_ids = final_df['match'].unique()\n",
    "last_five = []\n",
    "for id in match_ids:\n",
    "    last_five.extend(groups.get_group(id).rolling(window=30).sum()['run_x'].values.tolist())"
   ]
  },
  {
   "cell_type": "code",
   "execution_count": 76,
   "metadata": {},
   "outputs": [
    {
     "name": "stderr",
     "output_type": "stream",
     "text": [
      "<ipython-input-76-0fbf01c1d1e3>:1: SettingWithCopyWarning: \n",
      "A value is trying to be set on a copy of a slice from a DataFrame.\n",
      "Try using .loc[row_indexer,col_indexer] = value instead\n",
      "\n",
      "See the caveats in the documentation: https://pandas.pydata.org/pandas-docs/stable/user_guide/indexing.html#returning-a-view-versus-a-copy\n",
      "  final_df['last_five'] = last_five\n"
     ]
    }
   ],
   "source": [
    "final_df['last_five'] = last_five"
   ]
  },
  {
   "cell_type": "code",
   "execution_count": null,
   "metadata": {},
   "outputs": [],
   "source": []
  },
  {
   "cell_type": "code",
   "execution_count": 77,
   "metadata": {},
   "outputs": [
    {
     "name": "stderr",
     "output_type": "stream",
     "text": [
      "<ipython-input-77-3665e38311c9>:1: SettingWithCopyWarning: \n",
      "A value is trying to be set on a copy of a slice from a DataFrame\n",
      "\n",
      "See the caveats in the documentation: https://pandas.pydata.org/pandas-docs/stable/user_guide/indexing.html#returning-a-view-versus-a-copy\n",
      "  final_df.dropna(inplace=True)\n"
     ]
    }
   ],
   "source": [
    "final_df.dropna(inplace=True)"
   ]
  },
  {
   "cell_type": "markdown",
   "metadata": {},
   "source": [
    "### removing cities which less value than 600"
   ]
  },
  {
   "cell_type": "code",
   "execution_count": 78,
   "metadata": {},
   "outputs": [],
   "source": [
    "eligible_cities = final_df['city'].value_counts()[final_df['city'].value_counts() > 600].index.tolist()\n",
    "final_df = final_df[final_df['city'].isin(eligible_cities)]\n"
   ]
  },
  {
   "cell_type": "markdown",
   "metadata": {},
   "source": [
    "### saving csv final file"
   ]
  },
  {
   "cell_type": "code",
   "execution_count": null,
   "metadata": {},
   "outputs": [],
   "source": []
  },
  {
   "cell_type": "code",
   "execution_count": 8,
   "metadata": {},
   "outputs": [
    {
     "data": {
      "text/html": [
       "<div>\n",
       "<style scoped>\n",
       "    .dataframe tbody tr th:only-of-type {\n",
       "        vertical-align: middle;\n",
       "    }\n",
       "\n",
       "    .dataframe tbody tr th {\n",
       "        vertical-align: top;\n",
       "    }\n",
       "\n",
       "    .dataframe thead th {\n",
       "        text-align: right;\n",
       "    }\n",
       "</style>\n",
       "<table border=\"1\" class=\"dataframe\">\n",
       "  <thead>\n",
       "    <tr style=\"text-align: right;\">\n",
       "      <th></th>\n",
       "      <th>Unnamed: 0</th>\n",
       "      <th>match</th>\n",
       "      <th>battingteams</th>\n",
       "      <th>bowlingteam</th>\n",
       "      <th>run_x</th>\n",
       "      <th>current_score</th>\n",
       "      <th>ball_count</th>\n",
       "      <th>wickets_left</th>\n",
       "      <th>crr</th>\n",
       "      <th>city</th>\n",
       "      <th>run_y</th>\n",
       "      <th>last_five</th>\n",
       "    </tr>\n",
       "  </thead>\n",
       "  <tbody>\n",
       "    <tr>\n",
       "      <th>4602</th>\n",
       "      <td>10923</td>\n",
       "      <td>121</td>\n",
       "      <td>Pakistan</td>\n",
       "      <td>Zimbabwe</td>\n",
       "      <td>0</td>\n",
       "      <td>120</td>\n",
       "      <td>90</td>\n",
       "      <td>6</td>\n",
       "      <td>8.00</td>\n",
       "      <td>Harare</td>\n",
       "      <td>182</td>\n",
       "      <td>42.0</td>\n",
       "    </tr>\n",
       "    <tr>\n",
       "      <th>27840</th>\n",
       "      <td>53783</td>\n",
       "      <td>690</td>\n",
       "      <td>West Indies</td>\n",
       "      <td>New Zealand</td>\n",
       "      <td>1</td>\n",
       "      <td>78</td>\n",
       "      <td>71</td>\n",
       "      <td>9</td>\n",
       "      <td>6.59</td>\n",
       "      <td>Lauderhill</td>\n",
       "      <td>209</td>\n",
       "      <td>34.0</td>\n",
       "    </tr>\n",
       "    <tr>\n",
       "      <th>22125</th>\n",
       "      <td>45189</td>\n",
       "      <td>608</td>\n",
       "      <td>Pakistan</td>\n",
       "      <td>South Africa</td>\n",
       "      <td>0</td>\n",
       "      <td>37</td>\n",
       "      <td>42</td>\n",
       "      <td>6</td>\n",
       "      <td>5.29</td>\n",
       "      <td>Abu Dhabi</td>\n",
       "      <td>120</td>\n",
       "      <td>28.0</td>\n",
       "    </tr>\n",
       "    <tr>\n",
       "      <th>14602</th>\n",
       "      <td>31914</td>\n",
       "      <td>485</td>\n",
       "      <td>Australia</td>\n",
       "      <td>India</td>\n",
       "      <td>1</td>\n",
       "      <td>61</td>\n",
       "      <td>44</td>\n",
       "      <td>8</td>\n",
       "      <td>8.32</td>\n",
       "      <td>Mumbai</td>\n",
       "      <td>166</td>\n",
       "      <td>44.0</td>\n",
       "    </tr>\n",
       "    <tr>\n",
       "      <th>28415</th>\n",
       "      <td>55264</td>\n",
       "      <td>704</td>\n",
       "      <td>New Zealand</td>\n",
       "      <td>South Africa</td>\n",
       "      <td>2</td>\n",
       "      <td>53</td>\n",
       "      <td>63</td>\n",
       "      <td>4</td>\n",
       "      <td>5.05</td>\n",
       "      <td>Durban</td>\n",
       "      <td>86</td>\n",
       "      <td>34.0</td>\n",
       "    </tr>\n",
       "    <tr>\n",
       "      <th>35394</th>\n",
       "      <td>67534</td>\n",
       "      <td>838</td>\n",
       "      <td>Zimbabwe</td>\n",
       "      <td>Pakistan</td>\n",
       "      <td>3</td>\n",
       "      <td>73</td>\n",
       "      <td>58</td>\n",
       "      <td>9</td>\n",
       "      <td>7.55</td>\n",
       "      <td>Lahore</td>\n",
       "      <td>175</td>\n",
       "      <td>35.0</td>\n",
       "    </tr>\n",
       "  </tbody>\n",
       "</table>\n",
       "</div>"
      ],
      "text/plain": [
       "       Unnamed: 0  match battingteams   bowlingteam  run_x  current_score  \\\n",
       "4602        10923    121     Pakistan      Zimbabwe      0            120   \n",
       "27840       53783    690  West Indies   New Zealand      1             78   \n",
       "22125       45189    608     Pakistan  South Africa      0             37   \n",
       "14602       31914    485    Australia         India      1             61   \n",
       "28415       55264    704  New Zealand  South Africa      2             53   \n",
       "35394       67534    838     Zimbabwe      Pakistan      3             73   \n",
       "\n",
       "       ball_count  wickets_left   crr        city  run_y  last_five  \n",
       "4602           90             6  8.00      Harare    182       42.0  \n",
       "27840          71             9  6.59  Lauderhill    209       34.0  \n",
       "22125          42             6  5.29   Abu Dhabi    120       28.0  \n",
       "14602          44             8  8.32      Mumbai    166       44.0  \n",
       "28415          63             4  5.05      Durban     86       34.0  \n",
       "35394          58             9  7.55      Lahore    175       35.0  "
      ]
     },
     "execution_count": 8,
     "metadata": {},
     "output_type": "execute_result"
    }
   ],
   "source": [
    "final_df.sample(6)"
   ]
  },
  {
   "cell_type": "code",
   "execution_count": 22,
   "metadata": {},
   "outputs": [],
   "source": [
    "final_df=final_df.drop(columns=[\"Unnamed: 0\"])"
   ]
  },
  {
   "cell_type": "code",
   "execution_count": 15,
   "metadata": {},
   "outputs": [],
   "source": [
    "final_df=final_df.set_index(\"match\")"
   ]
  },
  {
   "cell_type": "code",
   "execution_count": 39,
   "metadata": {},
   "outputs": [],
   "source": [
    "final_df.to_csv(\"cleaned_.csv\")"
   ]
  },
  {
   "cell_type": "code",
   "execution_count": 23,
   "metadata": {},
   "outputs": [
    {
     "data": {
      "text/html": [
       "<div>\n",
       "<style scoped>\n",
       "    .dataframe tbody tr th:only-of-type {\n",
       "        vertical-align: middle;\n",
       "    }\n",
       "\n",
       "    .dataframe tbody tr th {\n",
       "        vertical-align: top;\n",
       "    }\n",
       "\n",
       "    .dataframe thead th {\n",
       "        text-align: right;\n",
       "    }\n",
       "</style>\n",
       "<table border=\"1\" class=\"dataframe\">\n",
       "  <thead>\n",
       "    <tr style=\"text-align: right;\">\n",
       "      <th></th>\n",
       "      <th>battingteams</th>\n",
       "      <th>bowlingteam</th>\n",
       "      <th>run_x</th>\n",
       "      <th>current_score</th>\n",
       "      <th>ball_count</th>\n",
       "      <th>wickets_left</th>\n",
       "      <th>crr</th>\n",
       "      <th>city</th>\n",
       "      <th>run_y</th>\n",
       "      <th>last_five</th>\n",
       "    </tr>\n",
       "    <tr>\n",
       "      <th>match</th>\n",
       "      <th></th>\n",
       "      <th></th>\n",
       "      <th></th>\n",
       "      <th></th>\n",
       "      <th></th>\n",
       "      <th></th>\n",
       "      <th></th>\n",
       "      <th></th>\n",
       "      <th></th>\n",
       "      <th></th>\n",
       "    </tr>\n",
       "  </thead>\n",
       "  <tbody>\n",
       "    <tr>\n",
       "      <th>2</th>\n",
       "      <td>Australia</td>\n",
       "      <td>Sri Lanka</td>\n",
       "      <td>1</td>\n",
       "      <td>43</td>\n",
       "      <td>30</td>\n",
       "      <td>10</td>\n",
       "      <td>8.60</td>\n",
       "      <td>Melbourne</td>\n",
       "      <td>168</td>\n",
       "      <td>43.0</td>\n",
       "    </tr>\n",
       "    <tr>\n",
       "      <th>2</th>\n",
       "      <td>Australia</td>\n",
       "      <td>Sri Lanka</td>\n",
       "      <td>1</td>\n",
       "      <td>44</td>\n",
       "      <td>31</td>\n",
       "      <td>10</td>\n",
       "      <td>8.52</td>\n",
       "      <td>Melbourne</td>\n",
       "      <td>168</td>\n",
       "      <td>44.0</td>\n",
       "    </tr>\n",
       "    <tr>\n",
       "      <th>2</th>\n",
       "      <td>Australia</td>\n",
       "      <td>Sri Lanka</td>\n",
       "      <td>1</td>\n",
       "      <td>45</td>\n",
       "      <td>32</td>\n",
       "      <td>10</td>\n",
       "      <td>8.44</td>\n",
       "      <td>Melbourne</td>\n",
       "      <td>168</td>\n",
       "      <td>45.0</td>\n",
       "    </tr>\n",
       "    <tr>\n",
       "      <th>2</th>\n",
       "      <td>Australia</td>\n",
       "      <td>Sri Lanka</td>\n",
       "      <td>0</td>\n",
       "      <td>45</td>\n",
       "      <td>33</td>\n",
       "      <td>10</td>\n",
       "      <td>8.18</td>\n",
       "      <td>Melbourne</td>\n",
       "      <td>168</td>\n",
       "      <td>44.0</td>\n",
       "    </tr>\n",
       "    <tr>\n",
       "      <th>2</th>\n",
       "      <td>Australia</td>\n",
       "      <td>Sri Lanka</td>\n",
       "      <td>0</td>\n",
       "      <td>45</td>\n",
       "      <td>34</td>\n",
       "      <td>10</td>\n",
       "      <td>7.94</td>\n",
       "      <td>Melbourne</td>\n",
       "      <td>168</td>\n",
       "      <td>42.0</td>\n",
       "    </tr>\n",
       "    <tr>\n",
       "      <th>...</th>\n",
       "      <td>...</td>\n",
       "      <td>...</td>\n",
       "      <td>...</td>\n",
       "      <td>...</td>\n",
       "      <td>...</td>\n",
       "      <td>...</td>\n",
       "      <td>...</td>\n",
       "      <td>...</td>\n",
       "      <td>...</td>\n",
       "      <td>...</td>\n",
       "    </tr>\n",
       "    <tr>\n",
       "      <th>963</th>\n",
       "      <td>Sri Lanka</td>\n",
       "      <td>Australia</td>\n",
       "      <td>1</td>\n",
       "      <td>125</td>\n",
       "      <td>122</td>\n",
       "      <td>2</td>\n",
       "      <td>6.15</td>\n",
       "      <td>Colombo</td>\n",
       "      <td>128</td>\n",
       "      <td>32.0</td>\n",
       "    </tr>\n",
       "    <tr>\n",
       "      <th>963</th>\n",
       "      <td>Sri Lanka</td>\n",
       "      <td>Australia</td>\n",
       "      <td>0</td>\n",
       "      <td>125</td>\n",
       "      <td>123</td>\n",
       "      <td>2</td>\n",
       "      <td>6.10</td>\n",
       "      <td>Colombo</td>\n",
       "      <td>128</td>\n",
       "      <td>32.0</td>\n",
       "    </tr>\n",
       "    <tr>\n",
       "      <th>963</th>\n",
       "      <td>Sri Lanka</td>\n",
       "      <td>Australia</td>\n",
       "      <td>0</td>\n",
       "      <td>125</td>\n",
       "      <td>124</td>\n",
       "      <td>1</td>\n",
       "      <td>6.05</td>\n",
       "      <td>Colombo</td>\n",
       "      <td>128</td>\n",
       "      <td>32.0</td>\n",
       "    </tr>\n",
       "    <tr>\n",
       "      <th>963</th>\n",
       "      <td>Sri Lanka</td>\n",
       "      <td>Australia</td>\n",
       "      <td>2</td>\n",
       "      <td>127</td>\n",
       "      <td>125</td>\n",
       "      <td>1</td>\n",
       "      <td>6.10</td>\n",
       "      <td>Colombo</td>\n",
       "      <td>128</td>\n",
       "      <td>33.0</td>\n",
       "    </tr>\n",
       "    <tr>\n",
       "      <th>963</th>\n",
       "      <td>Sri Lanka</td>\n",
       "      <td>Australia</td>\n",
       "      <td>1</td>\n",
       "      <td>128</td>\n",
       "      <td>126</td>\n",
       "      <td>1</td>\n",
       "      <td>6.10</td>\n",
       "      <td>Colombo</td>\n",
       "      <td>128</td>\n",
       "      <td>32.0</td>\n",
       "    </tr>\n",
       "  </tbody>\n",
       "</table>\n",
       "<p>39787 rows × 10 columns</p>\n",
       "</div>"
      ],
      "text/plain": [
       "      battingteams bowlingteam  run_x  current_score  ball_count  \\\n",
       "match                                                              \n",
       "2        Australia   Sri Lanka      1             43          30   \n",
       "2        Australia   Sri Lanka      1             44          31   \n",
       "2        Australia   Sri Lanka      1             45          32   \n",
       "2        Australia   Sri Lanka      0             45          33   \n",
       "2        Australia   Sri Lanka      0             45          34   \n",
       "...            ...         ...    ...            ...         ...   \n",
       "963      Sri Lanka   Australia      1            125         122   \n",
       "963      Sri Lanka   Australia      0            125         123   \n",
       "963      Sri Lanka   Australia      0            125         124   \n",
       "963      Sri Lanka   Australia      2            127         125   \n",
       "963      Sri Lanka   Australia      1            128         126   \n",
       "\n",
       "       wickets_left   crr       city  run_y  last_five  \n",
       "match                                                   \n",
       "2                10  8.60  Melbourne    168       43.0  \n",
       "2                10  8.52  Melbourne    168       44.0  \n",
       "2                10  8.44  Melbourne    168       45.0  \n",
       "2                10  8.18  Melbourne    168       44.0  \n",
       "2                10  7.94  Melbourne    168       42.0  \n",
       "...             ...   ...        ...    ...        ...  \n",
       "963               2  6.15    Colombo    128       32.0  \n",
       "963               2  6.10    Colombo    128       32.0  \n",
       "963               1  6.05    Colombo    128       32.0  \n",
       "963               1  6.10    Colombo    128       33.0  \n",
       "963               1  6.10    Colombo    128       32.0  \n",
       "\n",
       "[39787 rows x 10 columns]"
      ]
     },
     "execution_count": 23,
     "metadata": {},
     "output_type": "execute_result"
    }
   ],
   "source": [
    "final_df"
   ]
  },
  {
   "cell_type": "code",
   "execution_count": 4,
   "metadata": {},
   "outputs": [],
   "source": [
    "final_df=pd.read_csv(\"cleaned_.csv\")"
   ]
  },
  {
   "cell_type": "markdown",
   "metadata": {},
   "source": [
    "### train test spilt"
   ]
  },
  {
   "cell_type": "code",
   "execution_count": 25,
   "metadata": {},
   "outputs": [],
   "source": [
    "\n",
    "X = final_df.drop(columns=['run_x','run_y'])\n",
    "y = final_df['run_y']\n",
    "from sklearn.model_selection import train_test_split\n",
    "X_train,X_test,y_train,y_test = train_test_split(X,y,test_size=0.2,random_state=1)"
   ]
  },
  {
   "cell_type": "code",
   "execution_count": 26,
   "metadata": {},
   "outputs": [
    {
     "name": "stdout",
     "output_type": "stream",
     "text": [
      "<class 'pandas.core.frame.DataFrame'>\n",
      "Int64Index: 31829 entries, 733 to 805\n",
      "Data columns (total 8 columns):\n",
      " #   Column         Non-Null Count  Dtype  \n",
      "---  ------         --------------  -----  \n",
      " 0   battingteams   31829 non-null  object \n",
      " 1   bowlingteam    31829 non-null  object \n",
      " 2   current_score  31829 non-null  int64  \n",
      " 3   ball_count     31829 non-null  int64  \n",
      " 4   wickets_left   31829 non-null  int64  \n",
      " 5   crr            31829 non-null  float64\n",
      " 6   city           31829 non-null  object \n",
      " 7   last_five      31829 non-null  float64\n",
      "dtypes: float64(2), int64(3), object(3)\n",
      "memory usage: 2.2+ MB\n"
     ]
    }
   ],
   "source": [
    "X_train.info()"
   ]
  },
  {
   "cell_type": "markdown",
   "metadata": {},
   "source": [
    "### feature engineering and model buliding"
   ]
  },
  {
   "cell_type": "code",
   "execution_count": null,
   "metadata": {},
   "outputs": [],
   "source": [
    "pip install xgboost"
   ]
  },
  {
   "cell_type": "code",
   "execution_count": 27,
   "metadata": {},
   "outputs": [],
   "source": [
    "from sklearn.compose import ColumnTransformer\n",
    "from sklearn.preprocessing import OneHotEncoder\n",
    "from sklearn.pipeline import Pipeline,make_pipeline\n",
    "from sklearn.preprocessing import StandardScaler\n",
    "from sklearn.ensemble import RandomForestRegressor\n",
    "from xgboost import XGBRegressor\n",
    "from sklearn.metrics import r2_score,mean_absolute_error\n"
   ]
  },
  {
   "cell_type": "code",
   "execution_count": 28,
   "metadata": {},
   "outputs": [
    {
     "data": {
      "text/plain": [
       "Index(['battingteams', 'bowlingteam', 'current_score', 'ball_count',\n",
       "       'wickets_left', 'crr', 'city', 'last_five'],\n",
       "      dtype='object')"
      ]
     },
     "execution_count": 28,
     "metadata": {},
     "output_type": "execute_result"
    }
   ],
   "source": [
    "X_train.columns"
   ]
  },
  {
   "cell_type": "markdown",
   "metadata": {},
   "source": [
    "## making pipeline and column transformer"
   ]
  },
  {
   "cell_type": "code",
   "execution_count": 29,
   "metadata": {},
   "outputs": [],
   "source": [
    "# one hot encoding\n",
    "trf1 = ColumnTransformer([(\"one\",OneHotEncoder(sparse=False,handle_unknown='ignore'),[0,1,6])],remainder='passthrough')\n",
    "# Scaling\n",
    "trf2 = ColumnTransformer([(\"standardsclar\",StandardScaler(),[2,3,4,5,7])],remainder='passthrough')\n",
    "# the model\n",
    "trf3 = XGBRegressor(n_estimators=1000,learning_rate=0.2,max_depth=12,random_state=1)"
   ]
  },
  {
   "cell_type": "code",
   "execution_count": 30,
   "metadata": {},
   "outputs": [],
   "source": [
    "pipe=make_pipeline(trf1,trf2,trf3)"
   ]
  },
  {
   "cell_type": "code",
   "execution_count": 31,
   "metadata": {},
   "outputs": [],
   "source": [
    "import time\n",
    "z=time.time()\n",
    "pipe.fit(X_train,y_train)\n",
    "y=time.time()\n",
    "ti=y-z"
   ]
  },
  {
   "cell_type": "code",
   "execution_count": 32,
   "metadata": {},
   "outputs": [
    {
     "name": "stdout",
     "output_type": "stream",
     "text": [
      "0.9901555119608199\n",
      "1.559177592340562\n"
     ]
    }
   ],
   "source": [
    "y_pred = pipe.predict(X_test)\n",
    "print(r2_score(y_test,y_pred))\n",
    "print(mean_absolute_error(y_test,y_pred))"
   ]
  },
  {
   "cell_type": "code",
   "execution_count": 33,
   "metadata": {},
   "outputs": [
    {
     "data": {
      "text/plain": [
       "array([184.29092], dtype=float32)"
      ]
     },
     "execution_count": 33,
     "metadata": {},
     "output_type": "execute_result"
    }
   ],
   "source": [
    "pipe.predict(X_test.iloc[0:1])"
   ]
  },
  {
   "cell_type": "code",
   "execution_count": 34,
   "metadata": {},
   "outputs": [
    {
     "data": {
      "text/html": [
       "<div>\n",
       "<style scoped>\n",
       "    .dataframe tbody tr th:only-of-type {\n",
       "        vertical-align: middle;\n",
       "    }\n",
       "\n",
       "    .dataframe tbody tr th {\n",
       "        vertical-align: top;\n",
       "    }\n",
       "\n",
       "    .dataframe thead th {\n",
       "        text-align: right;\n",
       "    }\n",
       "</style>\n",
       "<table border=\"1\" class=\"dataframe\">\n",
       "  <thead>\n",
       "    <tr style=\"text-align: right;\">\n",
       "      <th></th>\n",
       "      <th>battingteams</th>\n",
       "      <th>bowlingteam</th>\n",
       "      <th>current_score</th>\n",
       "      <th>ball_count</th>\n",
       "      <th>wickets_left</th>\n",
       "      <th>crr</th>\n",
       "      <th>city</th>\n",
       "      <th>last_five</th>\n",
       "    </tr>\n",
       "    <tr>\n",
       "      <th>match</th>\n",
       "      <th></th>\n",
       "      <th></th>\n",
       "      <th></th>\n",
       "      <th></th>\n",
       "      <th></th>\n",
       "      <th></th>\n",
       "      <th></th>\n",
       "      <th></th>\n",
       "    </tr>\n",
       "  </thead>\n",
       "  <tbody>\n",
       "    <tr>\n",
       "      <th>769</th>\n",
       "      <td>Sri Lanka</td>\n",
       "      <td>England</td>\n",
       "      <td>65</td>\n",
       "      <td>46</td>\n",
       "      <td>8</td>\n",
       "      <td>8.48</td>\n",
       "      <td>London</td>\n",
       "      <td>41.0</td>\n",
       "    </tr>\n",
       "  </tbody>\n",
       "</table>\n",
       "</div>"
      ],
      "text/plain": [
       "      battingteams bowlingteam  current_score  ball_count  wickets_left   crr  \\\n",
       "match                                                                           \n",
       "769      Sri Lanka     England             65          46             8  8.48   \n",
       "\n",
       "         city  last_five  \n",
       "match                     \n",
       "769    London       41.0  "
      ]
     },
     "execution_count": 34,
     "metadata": {},
     "output_type": "execute_result"
    }
   ],
   "source": [
    "X_test.iloc[0:1]"
   ]
  },
  {
   "cell_type": "code",
   "execution_count": 35,
   "metadata": {},
   "outputs": [],
   "source": [
    "import joblib\n",
    "\n",
    "model_filename = \"finalmodel\"\n",
    "\n",
    "saved_model = joblib.dump(pipe, open(model_filename,'wb'))"
   ]
  },
  {
   "cell_type": "code",
   "execution_count": 36,
   "metadata": {},
   "outputs": [],
   "source": [
    "import joblib\n",
    "z=joblib.load(\"finalmodel\",\"w+\")"
   ]
  },
  {
   "cell_type": "code",
   "execution_count": 37,
   "metadata": {},
   "outputs": [
    {
     "data": {
      "text/plain": [
       "array([184.29092], dtype=float32)"
      ]
     },
     "execution_count": 37,
     "metadata": {},
     "output_type": "execute_result"
    }
   ],
   "source": [
    "z.predict(X_test.iloc[0:1])"
   ]
  },
  {
   "cell_type": "code",
   "execution_count": null,
   "metadata": {},
   "outputs": [],
   "source": []
  },
  {
   "cell_type": "code",
   "execution_count": 58,
   "metadata": {},
   "outputs": [
    {
     "data": {
      "text/html": [
       "<div>\n",
       "<style scoped>\n",
       "    .dataframe tbody tr th:only-of-type {\n",
       "        vertical-align: middle;\n",
       "    }\n",
       "\n",
       "    .dataframe tbody tr th {\n",
       "        vertical-align: top;\n",
       "    }\n",
       "\n",
       "    .dataframe thead th {\n",
       "        text-align: right;\n",
       "    }\n",
       "</style>\n",
       "<table border=\"1\" class=\"dataframe\">\n",
       "  <thead>\n",
       "    <tr style=\"text-align: right;\">\n",
       "      <th></th>\n",
       "      <th>0</th>\n",
       "    </tr>\n",
       "  </thead>\n",
       "  <tbody>\n",
       "    <tr>\n",
       "      <th>0</th>\n",
       "      <td>Australia</td>\n",
       "    </tr>\n",
       "    <tr>\n",
       "      <th>1</th>\n",
       "      <td>srilanka</td>\n",
       "    </tr>\n",
       "    <tr>\n",
       "      <th>2</th>\n",
       "      <td>67</td>\n",
       "    </tr>\n",
       "    <tr>\n",
       "      <th>3</th>\n",
       "      <td>45</td>\n",
       "    </tr>\n",
       "    <tr>\n",
       "      <th>4</th>\n",
       "      <td>8</td>\n",
       "    </tr>\n",
       "    <tr>\n",
       "      <th>5</th>\n",
       "      <td>8.67</td>\n",
       "    </tr>\n",
       "    <tr>\n",
       "      <th>6</th>\n",
       "      <td>Melbourne</td>\n",
       "    </tr>\n",
       "    <tr>\n",
       "      <th>7</th>\n",
       "      <td>43</td>\n",
       "    </tr>\n",
       "  </tbody>\n",
       "</table>\n",
       "</div>"
      ],
      "text/plain": [
       "           0\n",
       "0  Australia\n",
       "1   srilanka\n",
       "2         67\n",
       "3         45\n",
       "4          8\n",
       "5       8.67\n",
       "6  Melbourne\n",
       "7         43"
      ]
     },
     "execution_count": 58,
     "metadata": {},
     "output_type": "execute_result"
    }
   ],
   "source": [
    "z"
   ]
  },
  {
   "cell_type": "code",
   "execution_count": 38,
   "metadata": {},
   "outputs": [
    {
     "name": "stderr",
     "output_type": "stream",
     "text": [
      "C:\\Users\\devel\\anaconda3\\lib\\site-packages\\sklearn\\compose\\_column_transformer.py:437: FutureWarning: Given feature/column names or counts do not match the ones for the data given during fit. This will fail from v0.24.\n",
      "  warnings.warn(\"Given feature/column names or counts do not match \"\n"
     ]
    }
   ],
   "source": [
    "input_df = pd.DataFrame(\n",
    "        {'battingteam': [\"Australia\"], 'bowlingteam': [\"srilanka\"],'current_score': [97],\n",
    "         'ball_count':[45],'wickets_left': [7], 'crr': [8.67],\"city\":[\"Melbourne\"] ,'last_five': [43]})\n",
    "result = z.predict(input_df)"
   ]
  },
  {
   "cell_type": "code",
   "execution_count": 39,
   "metadata": {},
   "outputs": [
    {
     "data": {
      "text/plain": [
       "array([170.49414], dtype=float32)"
      ]
     },
     "execution_count": 39,
     "metadata": {},
     "output_type": "execute_result"
    }
   ],
   "source": [
    "result"
   ]
  },
  {
   "cell_type": "code",
   "execution_count": 108,
   "metadata": {},
   "outputs": [
    {
     "data": {
      "text/plain": [
       "'1.5.2'"
      ]
     },
     "execution_count": 108,
     "metadata": {},
     "output_type": "execute_result"
    }
   ],
   "source": [
    "import xgboost\n",
    "xgboost.__version__"
   ]
  },
  {
   "cell_type": "code",
   "execution_count": 44,
   "metadata": {},
   "outputs": [
    {
     "ename": "NameError",
     "evalue": "name 'python' is not defined",
     "output_type": "error",
     "traceback": [
      "\u001b[1;31m---------------------------------------------------------------------------\u001b[0m",
      "\u001b[1;31mNameError\u001b[0m                                 Traceback (most recent call last)",
      "\u001b[1;32m<ipython-input-44-a4637bbefc43>\u001b[0m in \u001b[0;36m<module>\u001b[1;34m\u001b[0m\n\u001b[1;32m----> 1\u001b[1;33m \u001b[0mpython\u001b[0m \u001b[1;33m-\u001b[0m\u001b[1;33m-\u001b[0m\u001b[0mversion\u001b[0m\u001b[1;33m\u001b[0m\u001b[1;33m\u001b[0m\u001b[0m\n\u001b[0m",
      "\u001b[1;31mNameError\u001b[0m: name 'python' is not defined"
     ]
    }
   ],
   "source": [
    "python --version"
   ]
  },
  {
   "cell_type": "code",
   "execution_count": 45,
   "metadata": {},
   "outputs": [
    {
     "name": "stdout",
     "output_type": "stream",
     "text": [
      "3.8.5 (default, Sep  3 2020, 21:29:08) [MSC v.1916 64 bit (AMD64)]\n"
     ]
    }
   ],
   "source": [
    "import sys\n",
    "print(sys.version)"
   ]
  },
  {
   "cell_type": "code",
   "execution_count": 47,
   "metadata": {},
   "outputs": [
    {
     "data": {
      "text/plain": [
       "'1.19.2'"
      ]
     },
     "execution_count": 47,
     "metadata": {},
     "output_type": "execute_result"
    }
   ],
   "source": [
    "import numpy\n",
    "numpy.__version__"
   ]
  },
  {
   "cell_type": "code",
   "execution_count": null,
   "metadata": {},
   "outputs": [],
   "source": []
  }
 ],
 "metadata": {
  "kernelspec": {
   "display_name": "Python 3",
   "language": "python",
   "name": "python3"
  },
  "language_info": {
   "codemirror_mode": {
    "name": "ipython",
    "version": 3
   },
   "file_extension": ".py",
   "mimetype": "text/x-python",
   "name": "python",
   "nbconvert_exporter": "python",
   "pygments_lexer": "ipython3",
   "version": "3.8.5"
  }
 },
 "nbformat": 4,
 "nbformat_minor": 4
}
